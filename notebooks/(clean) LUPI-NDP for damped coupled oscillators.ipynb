{
 "cells": [
  {
   "cell_type": "code",
   "execution_count": 244,
   "metadata": {},
   "outputs": [],
   "source": [
    "import torch\n",
    "from torch import nn\n",
    "import torch.nn.functional as F\n",
    "from torchdiffeq import odeint\n",
    "from torch.distributions import Normal\n",
    "from torch.distributions.kl import kl_divergence\n",
    "from torch.utils.data import Dataset, DataLoader\n",
    "\n",
    "import numpy as np\n",
    "\n",
    "import random\n",
    "\n",
    "import warnings\n",
    "import datetime\n",
    "\n",
    "from copy import deepcopy\n",
    "\n",
    "import matplotlib.pyplot as plt\n",
    "from matplotlib.lines import Line2D"
   ]
  },
  {
   "cell_type": "code",
   "execution_count": 2,
   "metadata": {},
   "outputs": [],
   "source": [
    "class OscillatorsDataset(Dataset):\n",
    "    \"\"\"\n",
    "    Dampled Coupled Oscillators synthetic dataset.\n",
    "    \n",
    "    Produces data for the system\n",
    "    \n",
    "    |-spring-mass-spring-mass-spring-| w/ 'air' resistance\n",
    "    \n",
    "    where | are walls (i.e. immovable boundaries), described by\n",
    "    \n",
    "    f_i = k*(x_j - 2*x_i) - c*v_i\n",
    "    \n",
    "    for force f, displacements x, and velocity v, using Euler integration.\n",
    "    \n",
    "    Parameters\n",
    "        n       : int, number of samples\n",
    "        dt      : float, time step\n",
    "        freq    : int, how frequently to sample (multiple of dt)\n",
    "        samples : int, how many samples to take (multiples of freq)\n",
    "                  (an extra sample is include for t=0)\n",
    "    (possible) sampling parameters\n",
    "        m1,m2   : masses\n",
    "        x1,x2   : initial positions\n",
    "        v1,v2   : initial velocities\n",
    "        k       : (ideal) spring constant\n",
    "        c       : 'air' resistance constant\n",
    "    If a float is provided for a sampling parameter, it is fixed at that value;\n",
    "    if a list is provided, it will be uniformly sampled from the range.\n",
    "\n",
    "    The time step, freq and samples default to\n",
    "        dt      : 0.01\n",
    "        freq    : 10\n",
    "        samples : 10\n",
    "    n defaults to 1.\n",
    "    \n",
    "    The 'inputs' are the sampled parameters, i.e. if only the initial\n",
    "    positions are left unspecified and the 'outputs' are the positions\n",
    "    over time (x1(t),x2(t)).\n",
    "    \n",
    "    Output times are normalised to run 0 to 1, such that the first sample\n",
    "    is always at time = 0 and the final is always at time = 1.\n",
    "    \"\"\"\n",
    "    \n",
    "    def __init__(self, config, train=True, verbose=True):\n",
    "\n",
    "        # from config\n",
    "        #   base simulator setup\n",
    "        self.dt = config['simulator']['dt']\n",
    "        self.freq = config['simulator']['sampling_freq']\n",
    "        self.samples = config['simulator']['samples']\n",
    "        #   system parameter dictionaries\n",
    "        self.fixed = config['fixed']\n",
    "        if train:\n",
    "            self.varying = config['varying']\n",
    "            self.n = config['train_examples']\n",
    "        else:\n",
    "            self.varying = config['eval_varying']\n",
    "            self.n = config['eval_examples']\n",
    "        \n",
    "        # + 1 for the extra sample at t = 0\n",
    "        self.total_steps = self.freq*self.samples + 1\n",
    "        # normalised times\n",
    "        self.times = torch.arange(0,self.samples+1,1)/(1.*self.samples)\n",
    "        \n",
    "        if verbose:\n",
    "            if train:\n",
    "                print('Training data generation...')\n",
    "            else:\n",
    "                print('Evaluation data generation...')\n",
    "            print('Fixed paramters', self.fixed)\n",
    "            print('Varying parameters', self.varying)\n",
    "        \n",
    "        self.data = []\n",
    "        # generate data\n",
    "        for _ in range(self.n):\n",
    "            description, conditions = self.description_and_conditions()\n",
    "            output = self.single_run(conditions)\n",
    "            self.data.append((description, output, self.times))\n",
    "        \n",
    "    def __getitem__(self, index):\n",
    "        return self.data[index]\n",
    "    \n",
    "    def __len__(self):\n",
    "        return self.n\n",
    "    \n",
    "    def description_and_conditions(self):\n",
    "        \"\"\"\n",
    "        Return a sample of initial conditions, with those specified at\n",
    "        input being fixed and the unspecified being the description, too.\n",
    "        \"\"\"\n",
    "        \n",
    "        conditions = deepcopy(self.fixed)\n",
    "        for key in self.varying:\n",
    "            if key in conditions:\n",
    "                warnings.warn('System parameter defined in both fixed and varying configs')\n",
    "            low = min(self.varying[key])\n",
    "            high = max(self.varying[key])\n",
    "            conditions[key] = np.random.uniform(low,high)\n",
    "        \n",
    "        # the description is the varying part\n",
    "        description = [conditions[v] for v in self.varying]\n",
    "        \n",
    "        return torch.FloatTensor(description), conditions\n",
    "    \n",
    "    def single_run(self, conditions):\n",
    "        x1, x2 = conditions['x1'], conditions['x2']\n",
    "        v1, v2 = conditions['v1'], conditions['v2']\n",
    "        m1, m2 = conditions['m1'], conditions['m2']\n",
    "        c, k = conditions['c'], conditions['k']\n",
    "        output = []\n",
    "        for step in range(self.total_steps):\n",
    "            if step % self.freq == 0:\n",
    "                output.append([x1,x2])\n",
    "            \n",
    "            a1 = k*(x2-2*x1) - c*v1\n",
    "            a2 = k*(x1-2*x2) - c*v2\n",
    "            \n",
    "            x1 += self.dt*v1\n",
    "            x2 += self.dt*v2\n",
    "            v1 += self.dt*a1\n",
    "            v2 += self.dt*a2\n",
    "    \n",
    "        return torch.FloatTensor(output)"
   ]
  },
  {
   "cell_type": "code",
   "execution_count": 3,
   "metadata": {},
   "outputs": [],
   "source": [
    "class obs_encoder(nn.Module):\n",
    "    \"\"\"\n",
    "    Takes raw observations (x_i, t_i) and produces a representation r_i.\n",
    "    \"\"\"\n",
    "    \n",
    "    def __init__(self,config):\n",
    "        super(obs_encoder, self).__init__()\n",
    "        \n",
    "        obs_dim = config['x_dim']\n",
    "        h_dim = config['obs_enc_h_dim']\n",
    "        r_dim = config['r_dim']\n",
    "        \n",
    "        layers = [\n",
    "            nn.Linear(obs_dim+1,h_dim),\n",
    "            nn.ReLU(),\n",
    "            nn.Linear(h_dim,h_dim),\n",
    "            nn.ReLU(),\n",
    "            nn.Linear(h_dim,r_dim)\n",
    "        ]\n",
    "        \n",
    "        self.layers = torch.nn.Sequential(*layers)\n",
    "    \n",
    "    def forward(self, observations, times):\n",
    "        return self.layers(torch.cat([observations, times.unsqueeze(-1)],-1))"
   ]
  },
  {
   "cell_type": "code",
   "execution_count": 4,
   "metadata": {},
   "outputs": [],
   "source": [
    "class pi_encoder(nn.Module):\n",
    "    \"\"\"\n",
    "    Takes the privileged information signal and produces a representation r_p.\n",
    "    \"\"\"\n",
    "    def __init__(self, config):\n",
    "        super(pi_encoder, self).__init__()\n",
    "        \n",
    "        pi_dim = config['pi_dim']\n",
    "        h_dim = config['pi_enc_h_dim']\n",
    "        r_dim = config['pi_r_dim']\n",
    "        \n",
    "        layers = [\n",
    "            nn.Linear(pi_dim,h_dim),\n",
    "            nn.ReLU(),\n",
    "            nn.Linear(h_dim,h_dim),\n",
    "            nn.ReLU(),\n",
    "            nn.Linear(h_dim,r_dim)\n",
    "        ]\n",
    "        \n",
    "        self.layers = torch.nn.Sequential(*layers)\n",
    "    \n",
    "    def forward(self, x):\n",
    "        return self.layers(x)"
   ]
  },
  {
   "cell_type": "code",
   "execution_count": 5,
   "metadata": {},
   "outputs": [],
   "source": [
    "class r_aggregator(nn.Module):\n",
    "    \"\"\"\n",
    "    Takes mixed representations from observations and privileged information and\n",
    "    produces a single task representation.\n",
    "    \n",
    "    In evaluation mode privileged information should not be used and a warning will\n",
    "    given if this is attempted.\n",
    "    \"\"\"\n",
    "    def __init__(self, config):\n",
    "        super(r_aggregator, self).__init__()\n",
    "        \n",
    "        obs_r_dim = config['r_dim']\n",
    "        pi_r_dim = config['pi_r_dim']\n",
    "        h_dim = config['agg_h_dim']\n",
    "        \n",
    "        self.aggregators = config['aggregators']\n",
    "        \n",
    "        for agg in self.aggregators:\n",
    "            if agg not in ['mean','max','min','logsumexp']:\n",
    "                raise ValueError(f'Aggregator {agg} is not supported.')\n",
    "        \n",
    "        # when using privileged information we combine the representations with a small ResNet\n",
    "        layers = [\n",
    "            nn.Linear(obs_r_dim*len(self.aggregators)+pi_r_dim,h_dim),\n",
    "            nn.ReLU(),\n",
    "            nn.Linear(h_dim,h_dim),\n",
    "            nn.ReLU(),\n",
    "            nn.Linear(h_dim,obs_r_dim*len(self.aggregators))\n",
    "        ]\n",
    "        \n",
    "        self.layers = torch.nn.Sequential(*layers)\n",
    "        \n",
    "    def aggregate(self, obs_r):\n",
    "        # concatentate the aggregator outputs\n",
    "        agg = []\n",
    "        if 'max' in self.aggregators:\n",
    "            agg.append(torch.max(obs_r,0).values)\n",
    "        if 'min' in self.aggregators:\n",
    "            agg.append(torch.min(obs_r,0).values)\n",
    "        if 'logsumexp' in self.aggregators:\n",
    "            agg.append(torch.logsumexp(obs_r,0))\n",
    "        if 'mean' in self.aggregators:\n",
    "            agg.append(torch.mean(obs_r,0))\n",
    "        \n",
    "        return torch.cat(agg, 0)\n",
    "        \n",
    "    def forward(self, r_i, r_p=None):\n",
    "        if not self.training and r_p is not None:\n",
    "            warnings.warn('Privileged information provided to the aggregator in evaluation mode.')\n",
    "        \n",
    "        # aggregate observations\n",
    "        r_obs = self.aggregate(r_i)\n",
    "        \n",
    "        # if we have privileged information, use the resnet\n",
    "        # r_obs' = r_obs + f(r_obs, r_p)\n",
    "        if r_p is not None:\n",
    "            r_obs = r_obs + self.layers(torch.cat([r_obs, r_p], -1))\n",
    "        \n",
    "        return r_obs"
   ]
  },
  {
   "cell_type": "code",
   "execution_count": 6,
   "metadata": {},
   "outputs": [],
   "source": [
    "class r_to_z(nn.Module):\n",
    "    \"\"\"\n",
    "    From task representation to global latent variable.\n",
    "    \"\"\"\n",
    "    def __init__(self, config):\n",
    "        super(r_to_z, self).__init__()\n",
    "        \n",
    "        aggregated_r_dim = config['r_dim'] * len(config['aggregators'])\n",
    "        h_dim = config['r_to_z_h_dim']\n",
    "        z_dim = config['z_dim']\n",
    "        \n",
    "        layers = [\n",
    "            nn.Linear(aggregated_r_dim,h_dim),\n",
    "            nn.ReLU(),\n",
    "            nn.Linear(h_dim,h_dim),\n",
    "            nn.ReLU()\n",
    "        ]\n",
    "        \n",
    "        self.layers = torch.nn.Sequential(*layers)\n",
    "        \n",
    "        self.h_to_mu = torch.nn.Linear(h_dim, z_dim)\n",
    "        self.h_to_sigma = torch.nn.Linear(h_dim, z_dim)\n",
    "        \n",
    "    def forward(self, r):\n",
    "        h = self.layers(r)\n",
    "        mu = self.h_to_mu(h)\n",
    "        sigma = 0.1 + 0.9*torch.sigmoid(self.h_to_sigma(h))\n",
    "        \n",
    "        return Normal(mu, sigma)"
   ]
  },
  {
   "cell_type": "code",
   "execution_count": 7,
   "metadata": {},
   "outputs": [],
   "source": [
    "class z_to_L0(nn.Module):\n",
    "    \"\"\"\n",
    "    Use a sample from the global latent variable to produce the initial L value.\n",
    "    \"\"\"\n",
    "    def __init__(self,config):\n",
    "        super(z_to_L0, self).__init__()\n",
    "        \n",
    "        L_dim = config['L_dim']\n",
    "        z_dim = config['z_dim']\n",
    "        h_dim = config['z_to_L_h_dim']\n",
    "        \n",
    "        layers = [\n",
    "            nn.Linear(z_dim,h_dim),\n",
    "            nn.ReLU(),\n",
    "            nn.Linear(h_dim,h_dim),\n",
    "            nn.ReLU(),\n",
    "            nn.Linear(h_dim,L_dim)\n",
    "        ]\n",
    "        \n",
    "        self.layers = torch.nn.Sequential(*layers)\n",
    "        \n",
    "    def forward(self, z_sample):\n",
    "        return self.layers(z_sample)"
   ]
  },
  {
   "cell_type": "code",
   "execution_count": 8,
   "metadata": {},
   "outputs": [],
   "source": [
    "class conditional_ODE_func(nn.Module):\n",
    "    \"\"\"\n",
    "    Conditional derivative function.\n",
    "    \n",
    "    Input is a concatentation of the ODE latent state and the global latent variable sample,\n",
    "    and the time\n",
    "        (L || z, t)\n",
    "    Output is the derivative at that time\n",
    "        (dL || dz)\n",
    "    with dz set to 0.\n",
    "    \n",
    "    This is a 'hacky' way to condition the ODE without letting the sample varying.\n",
    "    \"\"\"\n",
    "    \n",
    "    def __init__(self,config):\n",
    "        super(conditional_ODE_func, self).__init__()\n",
    "        \n",
    "        L_dim = config['L_dim']\n",
    "        z_dim = config['z_dim']\n",
    "        h_dim = config['ode_h_dim']\n",
    "        \n",
    "        layers = [\n",
    "            torch.nn.Linear(L_dim+z_dim+1,h_dim),\n",
    "            torch.nn.Softplus(),\n",
    "            torch.nn.Linear(h_dim,h_dim),\n",
    "            torch.nn.Softplus(),\n",
    "            torch.nn.Linear(h_dim,L_dim)\n",
    "        ]\n",
    "        \n",
    "        self.latent_func = torch.nn.Sequential(*layers)\n",
    "        \n",
    "        self.L_dim = L_dim\n",
    "        \n",
    "        self.nfe = 0\n",
    "    \n",
    "    def forward(self, t, L_z):\n",
    "        self.nfe += 1\n",
    "        z = L_z[self.L_dim:]\n",
    "        L_z_t = torch.cat([L_z,t.unsqueeze(-1)])\n",
    "        dL = self.latent_func(L_z_t)\n",
    "        dz = torch.zeros_like(z)\n",
    "        \n",
    "        return torch.cat([dL,dz])"
   ]
  },
  {
   "cell_type": "code",
   "execution_count": 9,
   "metadata": {},
   "outputs": [],
   "source": [
    "class decoder(nn.Module):\n",
    "    \"\"\"\n",
    "    Produce an output from the ODE latent state and the global latent variable sample.\n",
    "    \"\"\"\n",
    "    def __init__(self, config):\n",
    "        super(decoder, self).__init__()\n",
    "        \n",
    "        L_dim = config['L_dim']\n",
    "        z_dim = config['z_dim']\n",
    "        h_dim = config['dec_h_dim']\n",
    "        out_dim = config['x_dim']\n",
    "        \n",
    "        layers = [\n",
    "            torch.nn.Linear(L_dim+z_dim,h_dim),\n",
    "            torch.nn.ReLU(),\n",
    "            torch.nn.Linear(h_dim,h_dim),\n",
    "            torch.nn.ReLU()\n",
    "        ]\n",
    "        \n",
    "        self.shared_layers = torch.nn.Sequential(*layers)\n",
    "        \n",
    "        self.hidden_to_mu = torch.nn.Linear(h_dim, out_dim)\n",
    "        self.hidden_to_sigma = torch.nn.Linear(h_dim, out_dim)\n",
    "        \n",
    "    def forward(self, L_z_t):\n",
    "        \n",
    "        hidden = self.shared_layers(L_z_t)\n",
    "        mu = self.hidden_to_mu(hidden)\n",
    "        sigma = 0.1 + 0.9*F.softplus(self.hidden_to_sigma(hidden))\n",
    "        return Normal(mu, sigma)"
   ]
  },
  {
   "cell_type": "code",
   "execution_count": 10,
   "metadata": {},
   "outputs": [],
   "source": [
    "class LUPI_NDP(nn.Module):\n",
    "    \n",
    "    def __init__(self, config):\n",
    "\n",
    "        super(LUPI_NDP, self).__init__()\n",
    "        \n",
    "        self.observations_encoder = obs_encoder(config)\n",
    "        self.privileged_info_encoder = pi_encoder(config)\n",
    "        self.representation_aggregator = r_aggregator(config)\n",
    "        self.representation_to_global_latent = r_to_z(config)\n",
    "        self.global_latent_to_initial_value = z_to_L0(config)\n",
    "        self.odefunc = conditional_ODE_func(config)\n",
    "        self.decoder = decoder(config)\n",
    "        \n",
    "    def forward(self, observations, times, p_info, context_idx, target_idx):\n",
    "        if self.training:\n",
    "            # encode\n",
    "            r_i = self.observations_encoder(observations, times)\n",
    "            r_p = self.privileged_info_encoder(p_info)\n",
    "            # aggregate\n",
    "            r_C = self.representation_aggregator(r_i[context_idx],None)\n",
    "            r_T = self.representation_aggregator(r_i[target_idx],r_p)\n",
    "            # parametrise\n",
    "            z_C = self.representation_to_global_latent(r_C)\n",
    "            z_T = self.representation_to_global_latent(r_T)\n",
    "            # sample (from target Z during training)\n",
    "            z_ = z_T.rsample()\n",
    "            # initialise and evolve\n",
    "            L0 = self.global_latent_to_initial_value(z_)\n",
    "            L_z = torch.cat([L0,z_])\n",
    "            ################ this bit won't work with batching yet\n",
    "            L_z_t = odeint(self.odefunc, L_z, times[target_idx])\n",
    "            return z_C, z_T, self.decoder(L_z_t)\n",
    "        \n",
    "        else:\n",
    "            # encode\n",
    "            r_i = self.observations_encoder(observations[context_idx],\n",
    "                                            times[context_idx])\n",
    "            # aggregate\n",
    "            r_C = self.representation_aggregator(r_i,None)\n",
    "            # parametrise\n",
    "            z_C = self.representation_to_global_latent(r_C)\n",
    "            # sample (from context Z during eval.)\n",
    "            z_ = z_C.rsample()\n",
    "            # initialise and evolve\n",
    "            L0 = self.global_latent_to_initial_value(z_)\n",
    "            L_z = torch.cat([L0,z_])\n",
    "            ################ this bit won't work with batching yet\n",
    "            L_z_t = odeint(self.odefunc, L_z, times[target_idx].squeeze())\n",
    "            return self.decoder(L_z_t)"
   ]
  },
  {
   "cell_type": "code",
   "execution_count": null,
   "metadata": {},
   "outputs": [],
   "source": [
    "class NDP(nn.Module):\n",
    "    \"\"\"\n",
    "    No privileged information NDP model built to sub in directly for the LUPI\n",
    "    model for the sake of experimental consistency. Primarily this means that\n",
    "    the forward pass takes a 'p_info' argument despite not using it.\n",
    "    \"\"\"\n",
    "    \n",
    "    def __init__(self, config):\n",
    "\n",
    "        super(NDP, self).__init__()\n",
    "        \n",
    "        self.observations_encoder = obs_encoder(config)\n",
    "        self.representation_aggregator = r_aggregator(config)\n",
    "        self.representation_to_global_latent = r_to_z(config)\n",
    "        self.global_latent_to_initial_value = z_to_L0(config)\n",
    "        self.odefunc = conditional_ODE_func(config)\n",
    "        self.decoder = decoder(config)\n",
    "        \n",
    "    def forward(self, observations, times, p_info, context_idx, target_idx):\n",
    "        if self.training:\n",
    "            # encode\n",
    "            r_i = self.observations_encoder(observations, times)\n",
    "            # aggregate (no PI so both aggregate without it)\n",
    "            r_C = self.representation_aggregator(r_i[context_idx],None)\n",
    "            r_T = self.representation_aggregator(r_i[target_idx],None)\n",
    "            # parametrise\n",
    "            z_C = self.representation_to_global_latent(r_C)\n",
    "            z_T = self.representation_to_global_latent(r_T)\n",
    "            # sample (from target Z during training)\n",
    "            z_ = z_T.rsample()\n",
    "            # initialise and evolve\n",
    "            L0 = self.global_latent_to_initial_value(z_)\n",
    "            L_z = torch.cat([L0,z_])\n",
    "            ################ this bit won't work with batching yet\n",
    "            L_z_t = odeint(self.odefunc, L_z, times[target_idx])\n",
    "            return z_C, z_T, self.decoder(L_z_t)\n",
    "        \n",
    "        else:\n",
    "            # encode\n",
    "            r_i = self.observations_encoder(observations[context_idx],\n",
    "                                            times[context_idx])\n",
    "            # aggregate\n",
    "            r_C = self.representation_aggregator(r_i,None)\n",
    "            # parametrise\n",
    "            z_C = self.representation_to_global_latent(r_C)\n",
    "            # sample (from context Z during eval.)\n",
    "            z_ = z_C.rsample()\n",
    "            # initialise and evolve\n",
    "            L0 = self.global_latent_to_initial_value(z_)\n",
    "            L_z = torch.cat([L0,z_])\n",
    "            ################ this bit won't work with batching yet\n",
    "            L_z_t = odeint(self.odefunc, L_z, times[target_idx].squeeze())\n",
    "            return self.decoder(L_z_t)"
   ]
  },
  {
   "cell_type": "code",
   "execution_count": 250,
   "metadata": {},
   "outputs": [],
   "source": [
    "config = {\n",
    "    'model' : 'lupi', # lupi or nopi\n",
    "    # data stuff\n",
    "    'train_examples' : 500,\n",
    "    'train_val_split' : 0.8,\n",
    "    'eval_examples' : 100,\n",
    "    'simulator' : {\n",
    "        'dt' : 0.01,\n",
    "        'sampling_freq' : 20,\n",
    "        'samples' : 50\n",
    "    },\n",
    "    'fixed' : {\n",
    "        'm1' : 1,\n",
    "        'm2' : 1,\n",
    "        'x1' : 1,\n",
    "        'x2' : -1,\n",
    "        'v1' : 0,\n",
    "        'v2' : 0,\n",
    "        'c' : 1\n",
    "    },\n",
    "    'varying' : {\n",
    "        'k' : [0.2, 1.]\n",
    "    },\n",
    "    'eval_varying' : {\n",
    "        'k' : [0.2, 1.]\n",
    "    },\n",
    "    # model stuff\n",
    "    'x_dim' : 2,\n",
    "    'obs_enc_h_dim' : 16,\n",
    "    'r_dim': 16,\n",
    "    'pi_dim': 1,\n",
    "    'pi_enc_h_dim': 16,\n",
    "    'pi_r_dim': 16,\n",
    "    'aggregators': ['logsumexp', 'mean'],\n",
    "    'agg_h_dim': 16,\n",
    "    'r_to_z_h_dim': 16,\n",
    "    'z_dim': 16,\n",
    "    'z_to_L_h_dim': 16,\n",
    "    'L_dim': 16,\n",
    "    'ode_h_dim': 16,\n",
    "    'dec_h_dim': 16,\n",
    "    # training details\n",
    "    'lr' : 1e-3,\n",
    "    'epochs' : 100,\n",
    "    'val_and_print' : 10,\n",
    "    'context_range' : [5,10],\n",
    "    'target_range' : [15,51], # superset of context\n",
    "    'save_model' : True\n",
    "}"
   ]
  },
  {
   "cell_type": "code",
   "execution_count": 195,
   "metadata": {
    "scrolled": false
   },
   "outputs": [
    {
     "name": "stdout",
     "output_type": "stream",
     "text": [
      "Training data generation...\n",
      "Fixed paramters {'m1': 1, 'm2': 1, 'x1': 1, 'x2': -1, 'v1': 0, 'v2': 0, 'c': 1}\n",
      "Varying parameters {'k': [0.2, 1.0]}\n",
      "Evaluation data generation...\n",
      "Fixed paramters {'m1': 1, 'm2': 1, 'x1': 1, 'x2': -1, 'v1': 0, 'v2': 0, 'c': 1}\n",
      "Varying parameters {'k': [0.1, 0.2]}\n"
     ]
    },
    {
     "data": {
      "image/png": "[encoded data removed]",
      "text/plain": [
       "<Figure size 432x288 with 1 Axes>"
      ]
     },
     "metadata": {
      "needs_background": "light"
     },
     "output_type": "display_data"
    }
   ],
   "source": [
    "# datasets\n",
    "train_val_set = OscillatorsDataset(config)\n",
    "train_set = train_val_set[:int(config['train_examples']*config['train_val_split'])]\n",
    "val_set = train_val_set[int(config['train_examples']*config['train_val_split']):]\n",
    "eval_set = OscillatorsDataset(config, train=False)\n",
    "\n",
    "train_examples = len(train_set)\n",
    "val_examples = len(val_set)\n",
    "eval_examples = len(eval_set)\n",
    "\n",
    "# loaders\n",
    "train_loader = DataLoader(train_set, batch_size=1)\n",
    "val_loader = DataLoader(val_set, batch_size=1)\n",
    "eval_loader = DataLoader(eval_set, batch_size=1)\n",
    "\n",
    "# sanity plot\n",
    "for inputs, labels, times in train_loader:\n",
    "    plt.plot(times[0], labels[0,:,0], alpha=0.03, c='r')\n",
    "    plt.plot(times[0], labels[0,:,1], alpha=0.03, c='b')\n",
    "plt.title('Train set trajectories')\n",
    "custom_lines = [Line2D([0], [0], color='r', lw=2),\n",
    "                Line2D([0], [0], color='b', lw=2)]\n",
    "plt.legend(custom_lines, ['$x_1$', '$x_2$'])\n",
    "plt.xlabel('Normalised time, $t$')\n",
    "plt.ylabel('Displacement, $x$')\n",
    "plt.show()"
   ]
  },
  {
   "cell_type": "code",
   "execution_count": 200,
   "metadata": {
    "scrolled": true
   },
   "outputs": [],
   "source": [
    "# model and optimizer\n",
    "if config['model'] == 'lupi':\n",
    "    model = LUPI_NDP(config)\n",
    "elif config['model'] == 'nopi':\n",
    "    model = NDP(config)\n",
    "else:\n",
    "    print('Config model not recognised.')\n",
    "optimizer = torch.optim.Adam(model.parameters(), lr=config['lr'])\n",
    "context_range = range(min(config['context_range']),max(config['context_range']))\n",
    "target_range = range(min(config['target_range']),max(config['target_range']))"
   ]
  },
  {
   "cell_type": "markdown",
   "metadata": {},
   "source": [
    "#### Single pass (untrained)"
   ]
  },
  {
   "cell_type": "code",
   "execution_count": 14,
   "metadata": {},
   "outputs": [
    {
     "data": {
      "image/png": "[encoded data removed]",
      "text/plain": [
       "<Figure size 432x288 with 1 Axes>"
      ]
     },
     "metadata": {
      "needs_background": "light"
     },
     "output_type": "display_data"
    }
   ],
   "source": [
    "pi, x, times = next(iter(train_loader))\n",
    "\n",
    "context_size = random.sample(context_range,1)[0] # some number in the range 5 to 9\n",
    "target_size = random.sample(target_range,1)[0] # some number in the range 15 to 50\n",
    "target_idx = random.sample(range(config['simulator']['samples']),target_size) # a set of indices\n",
    "context_idx = random.sample(target_idx, context_size) # a subset of the target indices\n",
    "target_idx.sort()\n",
    "context_idx.sort()\n",
    "target_idx = torch.LongTensor(target_idx)\n",
    "context_idx = torch.LongTensor(context_idx)\n",
    "\n",
    "# haven't sorted out time sampled batching properly yet so squeezing out the batch dim\n",
    "zC,zT,preds = model(x.squeeze(0), times.squeeze(0), pi.squeeze(0), context_idx, target_idx)\n",
    "plt.scatter(times.squeeze(0)[target_idx],x.squeeze(0)[target_idx][:,0], label='Targets')\n",
    "plt.scatter(times.squeeze(0)[context_idx],x.squeeze(0)[context_idx][:,0], label='Context')\n",
    "plt.plot(times.squeeze(0)[target_idx],preds.loc[:,0].detach(), color='k', label='Prediction')\n",
    "plt.legend()\n",
    "plt.show()"
   ]
  },
  {
   "cell_type": "markdown",
   "metadata": {},
   "source": [
    "### Training"
   ]
  },
  {
   "cell_type": "code",
   "execution_count": 15,
   "metadata": {},
   "outputs": [
    {
     "name": "stdout",
     "output_type": "stream",
     "text": [
      "Epoch 10 \tTrain -62 / -64 / 2 \tVal -1\n",
      "Epoch 20 \tTrain -74 / -77 / 4 \tVal -0\n",
      "Epoch 30 \tTrain -76 / -79 / 3 \tVal -0\n",
      "Epoch 40 \tTrain -79 / -82 / 3 \tVal -0\n",
      "Epoch 50 \tTrain -81 / -84 / 3 \tVal -0\n",
      "Epoch 60 \tTrain -80 / -83 / 3 \tVal -0\n",
      "Epoch 70 \tTrain -83 / -85 / 3 \tVal -0\n",
      "Epoch 80 \tTrain -83 / -85 / 2 \tVal -0\n",
      "Epoch 90 \tTrain -85 / -87 / 3 \tVal -0\n",
      "Epoch 100 \tTrain -84 / -87 / 2 \tVal -1\n"
     ]
    }
   ],
   "source": [
    "for epoch in range(config['epochs']):\n",
    "    total_epoch_loss = 0\n",
    "    recon_epoch_loss = 0\n",
    "    kl_epoch_loss = 0\n",
    "    # training loop\n",
    "    for i,batch in enumerate(train_loader):\n",
    "        optimizer.zero_grad()\n",
    "        \n",
    "        pi, x, times = batch\n",
    "        \n",
    "        # context/target idx\n",
    "        context_size = random.sample(context_range,1)[0]\n",
    "        target_size = random.sample(target_range,1)[0]\n",
    "        # during training, context are a subset of targets\n",
    "        target_idx = random.sample(range(config['simulator']['samples']),target_size)\n",
    "        context_idx = random.sample(target_idx, context_size)\n",
    "        target_idx.sort()\n",
    "        context_idx.sort()\n",
    "        target_idx = torch.LongTensor(target_idx)\n",
    "        context_idx = torch.LongTensor(context_idx)\n",
    "        \n",
    "        zC, zT, preds = model(x.squeeze(0),\n",
    "                              times.squeeze(0),\n",
    "                              pi.squeeze(0),\n",
    "                              context_idx,\n",
    "                              target_idx)\n",
    "\n",
    "        # reconstruction term\n",
    "        log_likelihood = preds.log_prob(x.squeeze(0)[target_idx]).sum()\n",
    "        # kl term\n",
    "        kl = kl_divergence(zT, zC).sum()\n",
    "        \n",
    "        loss = -log_likelihood + kl\n",
    "\n",
    "        loss.backward()\n",
    "        \n",
    "        optimizer.step()\n",
    "        \n",
    "        total_epoch_loss += loss.item()\n",
    "        recon_epoch_loss += -log_likelihood.item()\n",
    "        kl_epoch_loss += kl.item()\n",
    "    # validation and printing loop\n",
    "    with torch.no_grad():\n",
    "        if (epoch+1) % config['val_and_print'] == 0:\n",
    "            model.eval()\n",
    "            val_recon = 0\n",
    "\n",
    "            for i, batch in enumerate(val_loader):\n",
    "                pi, x, times = batch\n",
    "\n",
    "                # context/target idx\n",
    "                context_size = random.sample(context_range,1)[0]\n",
    "                # during eval, context and targets are disjoint and targets are all but context\n",
    "                context_idx = random.sample(range(config['simulator']['samples']), context_size)\n",
    "                target_idx = list(set(range(config['simulator']['samples']))-set(context_idx))\n",
    "                context_idx.sort()\n",
    "                target_idx = torch.LongTensor(target_idx)\n",
    "                context_idx = torch.LongTensor(context_idx)\n",
    "\n",
    "                preds = model(x.squeeze(0),times.squeeze(0),pi.squeeze(0),\n",
    "                              context_idx,target_idx)\n",
    "                log_likelihood = preds.log_prob(x.squeeze(0)[target_idx]).mean()\n",
    "\n",
    "                val_recon += -log_likelihood.item()\n",
    "            print_string = (\n",
    "                \"Epoch {0:d} \\t\"\n",
    "                \"Train {1:.0f} / {2:.0f} / {3:.0f} \\t\"\n",
    "                \"Val {4:.0f}\"\n",
    "            ).format(epoch+1,\n",
    "                     total_epoch_loss/train_examples, recon_epoch_loss/train_examples,\n",
    "                     kl_epoch_loss/train_examples,val_recon/val_examples)\n",
    "            print(print_string)\n",
    "            model.train()\n",
    "\n",
    "if config['save_model']:\n",
    "    x = datetime.datetime.now()\n",
    "    print('Saving model to'+'./saved_models/'+config['model']+'-'+x.strftime(\"%Y-%m-%d-%H%M\"))\n",
    "    torch.save(model, './saved_models/'+config['model']+'-'+x.strftime(\"%Y-%m-%d-%H%M\"))"
   ]
  },
  {
   "cell_type": "code",
   "execution_count": 254,
   "metadata": {},
   "outputs": [
    {
     "name": "stdout",
     "output_type": "stream",
     "text": [
      "Saving model to./saved_models/lupi-2021-02-11-1447\n"
     ]
    }
   ],
   "source": [
    "\n",
    "print('Saving model to'+'./saved_models/'+config['model']+'-'+x.strftime(\"%Y-%m-%d-%H%M\"))"
   ]
  },
  {
   "cell_type": "markdown",
   "metadata": {},
   "source": [
    "### Evaluation"
   ]
  },
  {
   "cell_type": "code",
   "execution_count": 236,
   "metadata": {},
   "outputs": [
    {
     "name": "stdout",
     "output_type": "stream",
     "text": [
      "MSE eval-mode (context only, no PI):  0.11430540062487125\n",
      "MSE train-mode:  0.11478048488497734\n"
     ]
    }
   ],
   "source": [
    "z_samples = 50\n",
    "\n",
    "with torch.no_grad():\n",
    "    \n",
    "    eval_error = 0.\n",
    "    pi_error = 0.\n",
    "\n",
    "    for i, batch in enumerate(eval_loader):\n",
    "        # get example\n",
    "        pi, x, times = batch\n",
    "        \n",
    "        pi_preds = []\n",
    "        nopi_preds = []\n",
    "\n",
    "        context_range = range(5,10)\n",
    "        target_range = range(15,51)\n",
    "\n",
    "        context_size = random.sample(context_range,1)[0] # some number in the range 5 to 9\n",
    "        target_size = random.sample(target_range,1)[0] # some number in the range 15 to 50\n",
    "        target_idx = list(range(config['simulator']['samples'])) # a set of indices\n",
    "        context_idx = random.sample(target_idx, context_size) # a subset of the target indices\n",
    "        target_idx.sort()\n",
    "        context_idx.sort()\n",
    "        target_idx = torch.LongTensor(target_idx)\n",
    "        context_idx = torch.LongTensor(context_idx)\n",
    "        \n",
    "        for _ in range(z_samples):\n",
    "            model.train()\n",
    "            _,_,train_preds = model(x.squeeze(0), times.squeeze(0), pi.squeeze(0), context_idx, target_idx)\n",
    "            pi_preds.append(train_preds.loc[:,0].detach())\n",
    "            model.eval()\n",
    "            eval_preds = model(x.squeeze(0), times.squeeze(0), pi.squeeze(0), context_idx, target_idx)\n",
    "            nopi_preds.append(eval_preds.loc[:,0].detach())\n",
    "        pi_mean = torch.stack(pi_preds,0).mean(0)\n",
    "        eval_mean = torch.stack(nopi_preds,0).mean(0)\n",
    "        \n",
    "        eval_error += torch.mean((eval_mean - x.squeeze(0)[:-1,0])**2).item()\n",
    "        pi_error += torch.mean((pi_mean - x.squeeze(0)[:-1,0])**2).item()\n",
    "\n",
    "eval_error = eval_error/len(eval_loader)\n",
    "pi_error = pi_error/len(eval_loader)\n",
    "print('MSE eval-mode (context only, no PI): ', eval_error)\n",
    "print('MSE train-mode: ', pi_error)"
   ]
  },
  {
   "cell_type": "markdown",
   "metadata": {},
   "source": [
    "## Plots from the trained model"
   ]
  },
  {
   "cell_type": "markdown",
   "metadata": {},
   "source": [
    "#### Single sample trajectory on an example from the training set"
   ]
  },
  {
   "cell_type": "code",
   "execution_count": 219,
   "metadata": {},
   "outputs": [],
   "source": [
    "train_label = 'Using targets and PI' if config['model'] == 'lupi' else 'Using targets'\n",
    "eval_label = 'Context only'"
   ]
  },
  {
   "cell_type": "code",
   "execution_count": 228,
   "metadata": {},
   "outputs": [
    {
     "data": {
      "image/png": "[encoded data removed]",
      "text/plain": [
       "<Figure size 432x288 with 1 Axes>"
      ]
     },
     "metadata": {
      "needs_background": "light"
     },
     "output_type": "display_data"
    }
   ],
   "source": [
    "pi, x, times = next(iter(train_loader))\n",
    "\n",
    "context_range = range(5,10)\n",
    "target_range = range(15,51)\n",
    "\n",
    "context_size = random.sample(context_range,1)[0] # some number in the range 5 to 9\n",
    "target_size = random.sample(target_range,1)[0] # some number in the range 15 to 50\n",
    "target_idx = list(range(config['simulator']['samples'])) # a set of indices\n",
    "context_idx = random.sample(target_idx, context_size) # a subset of the target indices\n",
    "target_idx.sort()\n",
    "context_idx.sort()\n",
    "target_idx = torch.LongTensor(target_idx)\n",
    "context_idx = torch.LongTensor(context_idx)\n",
    "\n",
    "# haven't sorted out time sampled batching properly yet so squeezing out the batch dim\n",
    "model.train()\n",
    "zC,zT,train_preds = model(x.squeeze(0), times.squeeze(0), pi.squeeze(0), context_idx, target_idx)\n",
    "model.eval()\n",
    "eval_preds = model(x.squeeze(0), times.squeeze(0), pi.squeeze(0), context_idx, target_idx)\n",
    "plt.scatter(times.squeeze(0)[context_idx],x.squeeze(0)[context_idx][:,0], label='Context', color='k')\n",
    "plt.plot(times.squeeze(0)[target_idx],train_preds.loc[:,0].detach(), color='b', label=train_label)\n",
    "plt.plot(times.squeeze(0)[target_idx],eval_preds.loc[:,0].detach(), color='r', label=eval_label)\n",
    "plt.plot(times.squeeze(0), x.squeeze(0)[:,0], label='Ground truth', color='k')\n",
    "plt.legend()\n",
    "plt.show()"
   ]
  },
  {
   "cell_type": "markdown",
   "metadata": {},
   "source": [
    "#### Many sample trajectories on an example from training set\n",
    "(Note the context and target sets are fixed over the samples)"
   ]
  },
  {
   "cell_type": "code",
   "execution_count": 221,
   "metadata": {},
   "outputs": [
    {
     "data": {
      "image/png": "[encoded data removed]",
      "text/plain": [
       "<Figure size 432x288 with 1 Axes>"
      ]
     },
     "metadata": {
      "needs_background": "light"
     },
     "output_type": "display_data"
    }
   ],
   "source": [
    "z_samples = 50\n",
    "for _ in range(z_samples):\n",
    "    # haven't sorted out time sampled batching properly yet so squeezing out the batch dim\n",
    "    model.train()\n",
    "    zC,zT,train_preds = model(x.squeeze(0), times.squeeze(0), pi.squeeze(0), context_idx, target_idx)\n",
    "    model.eval()\n",
    "    eval_preds = model(x.squeeze(0), times.squeeze(0), pi.squeeze(0), context_idx, target_idx)\n",
    "    plt.plot(times.squeeze(0)[target_idx],train_preds.loc[:,0].detach(), color='b', alpha=0.2)\n",
    "    plt.plot(times.squeeze(0)[target_idx],eval_preds.loc[:,0].detach(), color='r', alpha=0.2)\n",
    "plt.plot(times.squeeze(0), x.squeeze(0)[:,0], label='Ground truth', color='k')\n",
    "plt.scatter(times.squeeze(0)[context_idx],x.squeeze(0)[context_idx][:,0], label='Context',color='k')\n",
    "plt.legend()\n",
    "custom_lines = [Line2D([0], [0], color='b', lw=2),\n",
    "                Line2D([0], [0], color='r', lw=2),\n",
    "                Line2D([0], [0], color='k', lw=2),\n",
    "                Line2D([0], [0], marker='o', color='w', label='Scatter',\n",
    "                       markerfacecolor='k', markersize=8)]\n",
    "plt.legend(custom_lines, [train_label, eval_label, 'Ground truth', 'Context'])\n",
    "plt.show()"
   ]
  },
  {
   "cell_type": "markdown",
   "metadata": {},
   "source": [
    "#### Mean trajectory with confidence intervals for the example above"
   ]
  },
  {
   "cell_type": "code",
   "execution_count": 230,
   "metadata": {},
   "outputs": [
    {
     "data": {
      "image/png": "[encoded data removed]",
      "text/plain": [
       "<Figure size 432x288 with 1 Axes>"
      ]
     },
     "metadata": {
      "needs_background": "light"
     },
     "output_type": "display_data"
    }
   ],
   "source": [
    "# sample a bunch of predictions\n",
    "z_samples = 50\n",
    "pi_preds = []\n",
    "nopi_preds = []\n",
    "for _ in range(z_samples):\n",
    "    # haven't sorted out time sampled batching properly yet so squeezing out the batch dim\n",
    "    model.train()\n",
    "    _,_,train_preds = model(x.squeeze(0), times.squeeze(0), pi.squeeze(0), context_idx, target_idx)\n",
    "    pi_preds.append(train_preds.loc[:,0].detach())\n",
    "    model.eval()\n",
    "    eval_preds = model(x.squeeze(0), times.squeeze(0), pi.squeeze(0), context_idx, target_idx)\n",
    "    nopi_preds.append(eval_preds.loc[:,0].detach())\n",
    "pi_mean = torch.stack(pi_preds,0).mean(0)\n",
    "pi_std = torch.stack(pi_preds,0).std(0)\n",
    "eval_mean = torch.stack(nopi_preds,0).mean(0)\n",
    "eval_std = torch.stack(nopi_preds,0).std(0)\n",
    "\n",
    "# plot ±2 std and ±1 std as transparent fills\n",
    "plt.fill_between(times.squeeze(0)[target_idx],eval_mean+2*eval_std,eval_mean-2*eval_std, alpha = 0.1, color='r')\n",
    "plt.fill_between(times.squeeze(0)[target_idx],pi_mean+2*pi_std,pi_mean-2*pi_std, alpha = 0.1, color='b')\n",
    "plt.fill_between(times.squeeze(0)[target_idx],eval_mean+eval_std,eval_mean-eval_std, alpha = 0.2, color='r')\n",
    "plt.fill_between(times.squeeze(0)[target_idx],pi_mean+pi_std,pi_mean-pi_std, alpha = 0.2, color='b')\n",
    "# plot means over the top\n",
    "plt.plot(times.squeeze(0)[target_idx],pi_mean,color='b')\n",
    "plt.plot(times.squeeze(0)[target_idx],eval_mean,color='r')\n",
    "# ground truth in black with context dots\n",
    "plt.plot(times.squeeze(0), x.squeeze(0)[:,0], label='Ground truth', color='k')\n",
    "plt.scatter(times.squeeze(0)[context_idx],x.squeeze(0)[context_idx][:,0], label='Context',color='k')\n",
    "custom_lines = [Line2D([0], [0], color='b', lw=2),\n",
    "                Line2D([0], [0], color='r', lw=2),\n",
    "                Line2D([0], [0], color='k', lw=2),\n",
    "                Line2D([0], [0], marker='o', color='w', label='Scatter',\n",
    "                       markerfacecolor='k', markersize=8)]\n",
    "plt.legend(custom_lines, [train_label, eval_label, 'Ground truth', 'Context'])\n",
    "plt.title('Training set prediction with uncertainty estimates.\\n Inner shaded region is ±1std, outer is ±2std.')\n",
    "plt.xlabel('$t$')\n",
    "plt.ylabel('$x$')\n",
    "plt.show()"
   ]
  },
  {
   "cell_type": "markdown",
   "metadata": {},
   "source": [
    "#### Mean trajectory with confidence intervals for an evaluation set sample"
   ]
  },
  {
   "cell_type": "code",
   "execution_count": 231,
   "metadata": {},
   "outputs": [],
   "source": [
    "eval_iter = iter(eval_loader)"
   ]
  },
  {
   "cell_type": "code",
   "execution_count": 232,
   "metadata": {},
   "outputs": [
    {
     "name": "stdout",
     "output_type": "stream",
     "text": [
      "P.I. =  0.1735917627811432\n"
     ]
    },
    {
     "data": {
      "image/png": "[encoded data removed]",
      "text/plain": [
       "<Figure size 432x288 with 1 Axes>"
      ]
     },
     "metadata": {
      "needs_background": "light"
     },
     "output_type": "display_data"
    }
   ],
   "source": [
    "pi, x, times = next(eval_iter)\n",
    "\n",
    "print('P.I. = ', pi.item())\n",
    "\n",
    "context_range = range(5,10)\n",
    "target_range = range(15,51)\n",
    "\n",
    "context_size = random.sample(context_range,1)[0] # some number in the range 5 to 9\n",
    "target_size = random.sample(target_range,1)[0] # some number in the range 15 to 50\n",
    "target_idx = list(range(config['simulator']['samples'])) # a set of indices\n",
    "context_idx = random.sample(target_idx, context_size) # a subset of the target indices\n",
    "target_idx.sort()\n",
    "context_idx.sort()\n",
    "target_idx = torch.LongTensor(target_idx)\n",
    "context_idx = torch.LongTensor(context_idx)\n",
    "\n",
    "# sample a bunch of predictions\n",
    "z_samples = 1\n",
    "pi_preds = []\n",
    "nopi_preds = []\n",
    "for _ in range(z_samples):\n",
    "    # haven't sorted out time sampled batching properly yet so squeezing out the batch dim\n",
    "    model.train()\n",
    "    _,_,train_preds = model(x.squeeze(0), times.squeeze(0), pi.squeeze(0), context_idx, target_idx)\n",
    "    pi_preds.append(train_preds.loc[:,0].detach())\n",
    "    model.eval()\n",
    "    eval_preds = model(x.squeeze(0), times.squeeze(0), pi.squeeze(0), context_idx, target_idx)\n",
    "    nopi_preds.append(eval_preds.loc[:,0].detach())\n",
    "pi_mean = torch.stack(pi_preds,0).mean(0)\n",
    "pi_std = torch.stack(pi_preds,0).std(0)\n",
    "eval_mean = torch.stack(nopi_preds,0).mean(0)\n",
    "eval_std = torch.stack(nopi_preds,0).std(0)\n",
    "\n",
    "# plot ±2 std and ±1 std as transparent fills\n",
    "plt.fill_between(times.squeeze(0)[target_idx],eval_mean+2*eval_std,eval_mean-2*eval_std, alpha = 0.1, color='r')\n",
    "plt.fill_between(times.squeeze(0)[target_idx],pi_mean+2*pi_std,pi_mean-2*pi_std, alpha = 0.1, color='b')\n",
    "plt.fill_between(times.squeeze(0)[target_idx],eval_mean+eval_std,eval_mean-eval_std, alpha = 0.2, color='r')\n",
    "plt.fill_between(times.squeeze(0)[target_idx],pi_mean+pi_std,pi_mean-pi_std, alpha = 0.2, color='b')\n",
    "# plot means over the top\n",
    "plt.plot(times.squeeze(0)[target_idx],pi_mean,color='b')\n",
    "plt.plot(times.squeeze(0)[target_idx],eval_mean,color='r')\n",
    "# ground truth in black with context dots\n",
    "plt.plot(times.squeeze(0), x.squeeze(0)[:,0], label='Ground truth', color='k')\n",
    "plt.scatter(times.squeeze(0)[context_idx],x.squeeze(0)[context_idx][:,0], label='Context',color='k')\n",
    "custom_lines = [Line2D([0], [0], color='b', lw=2),\n",
    "                Line2D([0], [0], color='r', lw=2),\n",
    "                Line2D([0], [0], color='k', lw=2),\n",
    "                Line2D([0], [0], marker='o', color='w', label='Scatter',\n",
    "                       markerfacecolor='k', markersize=8)]\n",
    "plt.legend(custom_lines, [train_label, eval_label, 'Ground truth', 'Context'])\n",
    "plt.title('Test set prediction with uncertainty estimates.\\n Inner shaded region is ±1std, outer is ±2std.')\n",
    "plt.xlabel('$t$')\n",
    "plt.ylabel('$x$')\n",
    "plt.show()"
   ]
  },
  {
   "cell_type": "markdown",
   "metadata": {},
   "source": [
    "### Calibration & sharpness\n",
    "#### Single example calibration"
   ]
  },
  {
   "cell_type": "code",
   "execution_count": 82,
   "metadata": {},
   "outputs": [
    {
     "data": {
      "image/png": "[encoded data removed]",
      "text/plain": [
       "<Figure size 432x288 with 1 Axes>"
      ]
     },
     "metadata": {
      "needs_background": "light"
     },
     "output_type": "display_data"
    }
   ],
   "source": [
    "observed_confidence = Normal(eval_mean, eval_std).cdf(x.squeeze(0)[:-1,0])\n",
    "\n",
    "# add perfect line\n",
    "plt.plot([0,1],[0,1], c='black', ls='--', alpha=0.3)\n",
    "data = observed_confidence.numpy()\n",
    "# evaluate the histogram\n",
    "values, base = np.histogram(data, bins=50)\n",
    "#evaluate the cumulative\n",
    "cumulative = np.cumsum(values)/len(data)\n",
    "# plot the cumulative function\n",
    "plt.plot(base[:-1], cumulative, c='blue')\n",
    "\n",
    "plt.title('Calibration plot')\n",
    "plt.xlabel('Expected Confidence Interval')\n",
    "plt.ylabel('Observed Confidence Interval')\n",
    "plt.show()"
   ]
  },
  {
   "cell_type": "markdown",
   "metadata": {},
   "source": [
    "#### Over the full test set"
   ]
  },
  {
   "cell_type": "code",
   "execution_count": 237,
   "metadata": {},
   "outputs": [],
   "source": [
    "z_samples = 50"
   ]
  },
  {
   "cell_type": "markdown",
   "metadata": {},
   "source": [
    "First get the observed confidence levels and calculate the sharpness"
   ]
  },
  {
   "cell_type": "code",
   "execution_count": 240,
   "metadata": {},
   "outputs": [
    {
     "name": "stdout",
     "output_type": "stream",
     "text": [
      "Context only sharpness: nan\n",
      "Using targets and PI sharpness: nan\n"
     ]
    }
   ],
   "source": [
    "with torch.no_grad():\n",
    "    model.eval()\n",
    "    \n",
    "    eval_observed_confidences = []\n",
    "    pi_observed_confidences = []\n",
    "    eval_sharpness = 0\n",
    "    pi_sharpness = 0\n",
    "\n",
    "    for i, batch in enumerate(eval_loader):\n",
    "        # get example\n",
    "        pi, x, times = batch\n",
    "        \n",
    "        pi_preds = []\n",
    "        nopi_preds = []\n",
    "\n",
    "        context_range = range(5,10)\n",
    "        target_range = range(15,51)\n",
    "\n",
    "        context_size = random.sample(context_range,1)[0] # some number in the range 5 to 9\n",
    "        target_size = random.sample(target_range,1)[0] # some number in the range 15 to 50\n",
    "        target_idx = list(range(config['simulator']['samples'])) # a set of indices\n",
    "        context_idx = random.sample(target_idx, context_size) # a subset of the target indices\n",
    "        target_idx.sort()\n",
    "        context_idx.sort()\n",
    "        target_idx = torch.LongTensor(target_idx)\n",
    "        context_idx = torch.LongTensor(context_idx)\n",
    "        \n",
    "        for _ in range(z_samples):\n",
    "            model.train()\n",
    "            _,_,train_preds = model(x.squeeze(0), times.squeeze(0), pi.squeeze(0), context_idx, target_idx)\n",
    "            pi_preds.append(train_preds.loc[:,0].detach())\n",
    "            model.eval()\n",
    "            eval_preds = model(x.squeeze(0), times.squeeze(0), pi.squeeze(0), context_idx, target_idx)\n",
    "            nopi_preds.append(eval_preds.loc[:,0].detach())\n",
    "        pi_mean = torch.stack(pi_preds,0).mean(0)\n",
    "        pi_std = torch.stack(pi_preds,0).std(0)\n",
    "        eval_mean = torch.stack(nopi_preds,0).mean(0)\n",
    "        eval_std = torch.stack(nopi_preds,0).std(0)\n",
    "        \n",
    "        eval_observed_confidences.append(Normal(eval_mean, eval_std).cdf(x.squeeze(0)[:-1,0]))\n",
    "        pi_observed_confidences.append(Normal(pi_mean, pi_std).cdf(x.squeeze(0)[:-1,0]))\n",
    "        eval_sharpness += torch.mean(eval_std).item()\n",
    "        pi_sharpness += torch.mean(pi_std).item()\n",
    "    \n",
    "    model.train()\n",
    "eval_sharpness = eval_sharpness/len(eval_loader)\n",
    "pi_sharpness = pi_sharpness/len(eval_loader)\n",
    "print(eval_label, 'sharpness:', eval_sharpness)\n",
    "print(train_label, 'sharpness:', pi_sharpness)"
   ]
  },
  {
   "cell_type": "markdown",
   "metadata": {},
   "source": [
    "Then find the mean and std over the cumulative histogram"
   ]
  },
  {
   "cell_type": "code",
   "execution_count": 234,
   "metadata": {},
   "outputs": [
    {
     "data": {
      "image/png": "[encoded data removed]",
      "text/plain": [
       "<Figure size 432x288 with 1 Axes>"
      ]
     },
     "metadata": {
      "needs_background": "light"
     },
     "output_type": "display_data"
    }
   ],
   "source": [
    "ev_cum = []\n",
    "pi_cum = []\n",
    "for ev, pi in zip(eval_observed_confidences, pi_observed_confidences):\n",
    "    ev_d, pi_d = ev.numpy(), pi.numpy()\n",
    "    \n",
    "    ev_v, ev_b = np.histogram(ev_d, bins=50, range=(0.,1.))\n",
    "    pi_v, pi_b = np.histogram(pi_d, bins=50, range=(0.,1.))\n",
    "    \n",
    "    ev_cum.append(np.cumsum(ev_v)/len(ev_d))\n",
    "    pi_cum.append(np.cumsum(pi_v)/len(pi_d))\n",
    "ev_cum_mean = np.mean(ev_cum, 0)\n",
    "ev_cum_std = np.std(ev_cum,0)\n",
    "pi_cum_mean = np.mean(pi_cum, 0)\n",
    "pi_cum_std = np.std(pi_cum,0)\n",
    "\n",
    "# add perfect line\n",
    "plt.plot([0,1],[0,1], c='black', ls='--', alpha=0.3, label='Perfect calibration')\n",
    "\n",
    "plt.plot((pi_b[:-1]+pi_b[1:])/2, pi_cumulative, c='blue', label=train_label)\n",
    "plt.plot((pi_b[:-1]+pi_b[1:])/2, eval_cumulative, c='red', label=eval_label)\n",
    "\n",
    "plt.legend()\n",
    "\n",
    "# plot the cumulative function\n",
    "plt.errorbar((pi_b[:-1]+pi_b[1:])/2, pi_cum_mean, yerr=pi_cum_std, c='blue', alpha=0.3, capsize=2.)\n",
    "plt.errorbar((pi_b[:-1]+pi_b[1:])/2, ev_cum_mean, yerr=ev_cum_std, c='red', alpha=0.3, capsize=2.)\n",
    "plt.title('Calibration over the test set with standard deviations.')\n",
    "plt.xlabel('Expected Confidence Interval')\n",
    "plt.ylabel('Observed Confidence Interval')\n",
    "plt.show()"
   ]
  },
  {
   "cell_type": "markdown",
   "metadata": {},
   "source": [
    "Finally, calculate the calibration error"
   ]
  },
  {
   "cell_type": "code",
   "execution_count": 241,
   "metadata": {},
   "outputs": [
    {
     "name": "stdout",
     "output_type": "stream",
     "text": [
      "Context only calibration error: 0.4357417957744908\n",
      "Using targets and PI calibration error: 1.1595659109856153\n"
     ]
    }
   ],
   "source": [
    "print(eval_label, 'calibration error:', (((pi_b[:-1]+pi_b[1:])/2 - ev_cum_mean)**2).sum())\n",
    "print(train_label, 'calibration error:', (((pi_b[:-1]+pi_b[1:])/2 - pi_cum_mean)**2).sum())"
   ]
  }
 ],
 "metadata": {
  "kernelspec": {
   "display_name": "Python [conda env:lupi]",
   "language": "python",
   "name": "conda-env-lupi-py"
  },
  "language_info": {
   "codemirror_mode": {
    "name": "ipython",
    "version": 3
   },
   "file_extension": ".py",
   "mimetype": "text/x-python",
   "name": "python",
   "nbconvert_exporter": "python",
   "pygments_lexer": "ipython3",
   "version": "3.8.5"
  }
 },
 "nbformat": 4,
 "nbformat_minor": 4
}
