{
  "nbformat": 4,
  "nbformat_minor": 0,
  "metadata": {
    "kernelspec": {
      "display_name": "Python [conda env:lupi]",
      "language": "python",
      "name": "conda-env-lupi-py"
    },
    "language_info": {
      "codemirror_mode": {
        "name": "ipython",
        "version": 3
      },
      "file_extension": ".py",
      "mimetype": "text/x-python",
      "name": "python",
      "nbconvert_exporter": "python",
      "pygments_lexer": "ipython3",
      "version": "3.8.5"
    },
    "colab": {
      "name": "LUPI-NDP for damped coupled oscillators.ipynb",
      "provenance": [],
      "include_colab_link": true
    },
    "accelerator": "GPU"
  },
  "cells": [
    {
      "cell_type": "markdown",
      "metadata": {
        "id": "view-in-github",
        "colab_type": "text"
      },
      "source": [
        "<a href=\"https://colab.research.google.com/github/BenjaminJamesDay/lupi-ndp/blob/main/LUPI_NDP_for_damped_coupled_oscillators.ipynb\" target=\"_parent\"><img src=\"https://colab.research.google.com/assets/colab-badge.svg\" alt=\"Open In Colab\"/></a>"
      ]
    },
    {
      "cell_type": "code",
      "metadata": {
        "colab": {
          "base_uri": "https://localhost:8080/"
        },
        "id": "oxTU0t4tc7x9",
        "outputId": "057d7eab-4445-4249-d6e0-5f657d2ed01e"
      },
      "source": [
        "!pip install torchdiffeq"
      ],
      "execution_count": 1,
      "outputs": [
        {
          "output_type": "stream",
          "text": [
            "Requirement already satisfied: torchdiffeq in /usr/local/lib/python3.6/dist-packages (0.2.1)\n",
            "Requirement already satisfied: torch>=1.3.0 in /usr/local/lib/python3.6/dist-packages (from torchdiffeq) (1.7.0+cu101)\n",
            "Requirement already satisfied: dataclasses in /usr/local/lib/python3.6/dist-packages (from torch>=1.3.0->torchdiffeq) (0.8)\n",
            "Requirement already satisfied: typing-extensions in /usr/local/lib/python3.6/dist-packages (from torch>=1.3.0->torchdiffeq) (3.7.4.3)\n",
            "Requirement already satisfied: future in /usr/local/lib/python3.6/dist-packages (from torch>=1.3.0->torchdiffeq) (0.16.0)\n",
            "Requirement already satisfied: numpy in /usr/local/lib/python3.6/dist-packages (from torch>=1.3.0->torchdiffeq) (1.19.5)\n"
          ],
          "name": "stdout"
        }
      ]
    },
    {
      "cell_type": "code",
      "metadata": {
        "id": "zFbjAqBicsjS"
      },
      "source": [
        "import torch\n",
        "from torch import nn\n",
        "import torch.nn.functional as F\n",
        "from torchdiffeq import odeint\n",
        "from torch.distributions import Normal\n",
        "from torch.distributions.kl import kl_divergence\n",
        "from torch.utils.data import Dataset, DataLoader\n",
        "\n",
        "import numpy as np\n",
        "\n",
        "import random\n",
        "\n",
        "import warnings\n",
        "\n",
        "import matplotlib.pyplot as plt\n",
        "from matplotlib.lines import Line2D"
      ],
      "execution_count": 2,
      "outputs": []
    },
    {
      "cell_type": "code",
      "metadata": {
        "colab": {
          "base_uri": "https://localhost:8080/"
        },
        "id": "jL_0pDyOd2mS",
        "outputId": "cc42cf47-9cf4-4601-8a7f-aaec78b0577e"
      },
      "source": [
        "if torch.cuda.is_available():\n",
        "    device = torch.device(\"cuda\")\n",
        "    !nvidia-smi\n",
        "else:\n",
        "    device = torch.device(\"cpu\")\n",
        "    warnings.warn('GPU not attached')"
      ],
      "execution_count": 3,
      "outputs": [
        {
          "output_type": "stream",
          "text": [
            "Tue Feb  9 14:10:12 2021       \n",
            "+-----------------------------------------------------------------------------+\n",
            "| NVIDIA-SMI 460.39       Driver Version: 418.67       CUDA Version: 10.1     |\n",
            "|-------------------------------+----------------------+----------------------+\n",
            "| GPU  Name        Persistence-M| Bus-Id        Disp.A | Volatile Uncorr. ECC |\n",
            "| Fan  Temp  Perf  Pwr:Usage/Cap|         Memory-Usage | GPU-Util  Compute M. |\n",
            "|                               |                      |               MIG M. |\n",
            "|===============================+======================+======================|\n",
            "|   0  Tesla K80           Off  | 00000000:00:04.0 Off |                    0 |\n",
            "| N/A   44C    P8    29W / 149W |     11MiB / 11441MiB |      0%      Default |\n",
            "|                               |                      |                 ERR! |\n",
            "+-------------------------------+----------------------+----------------------+\n",
            "                                                                               \n",
            "+-----------------------------------------------------------------------------+\n",
            "| Processes:                                                                  |\n",
            "|  GPU   GI   CI        PID   Type   Process name                  GPU Memory |\n",
            "|        ID   ID                                                   Usage      |\n",
            "|=============================================================================|\n",
            "|  No running processes found                                                 |\n",
            "+-----------------------------------------------------------------------------+\n"
          ],
          "name": "stdout"
        }
      ]
    },
    {
      "cell_type": "markdown",
      "metadata": {
        "id": "FV2Bt7DQcsjU"
      },
      "source": [
        "### Dampled coupled oscillators\n",
        "The `OscillatorsDataset` produces trajectory samples from a system of damped coupled oscillators. A pair of point masses are connected by springs between opposing walls in the chain: wall-spring-mass-spring-mass-spring-wall.\n",
        "\n",
        "`|--o--o--|`\n",
        "\n",
        "The equations of motion are\n",
        "\n",
        "$$\n",
        "m_1\\ddot{x_1} = k\\cdot(x_2 - 2x_1) - c\\dot{x_1} \\\\\n",
        "m_2\\ddot{x_2} = k\\cdot(x_1 - 2x_2) - c\\dot{x_2}\n",
        "$$\n",
        "\n",
        "where $m_i$ is the mass of the $i$-th mass, $x_i$ is the displacement of the $i$-th mass from the equilibrium position, $k$ is the spring constant, $c$ is the drag constant, and dots indicate time-derivatives.\n",
        "\n",
        "A distribution over dynamics can be generated by varying the initial conditions, i.e. $x_i(0), \\dot{x_i}(0)$, and/or the size of the masses, spring stiffness, or drag constant. If values are provided for these parameters they are fixed, if values are not provided they are sampled as\n",
        "\n",
        "- $m_i \\sim \\textrm{Uniform}(0.5,2)$\n",
        "- $x_i \\sim \\textrm{U}(-1,1)$\n",
        "- $v_i \\sim \\textrm{U}(-1,1)$\n",
        "- $k \\sim \\textrm{U}(0.2,1)$\n",
        "- $c \\sim \\textrm{U}(0.5,2)$\n",
        "\n",
        "The trajectories are sampled according to the parameters `dt`, `freq` and `samples`: `dt` is the unit time for the underlying simulator which uses Euler integration; `freq` sets how many steps (in `dt`) are skipped between samples; `samples` sets how many samples to take total (with an extra sample taken at `t=0`.) For example, with\n",
        "\n",
        "```\n",
        "dt = 0.001\n",
        "freq = 100\n",
        "samples = 20\n",
        "```\n",
        "\n",
        "the simulator takes steps of `0.001`, the time between samples is `dt*freq = 0.1` and there are 20 samples total (`0, 0.1, 0.2, ..., 2.0`). The times are then normalised to always run from 0 to 1, so these settings will result in samples being taken at (`0, 0.05, 0.1, 0.15, ..., 1.0`)."
      ]
    },
    {
      "cell_type": "code",
      "metadata": {
        "id": "y0feow7xcsjV"
      },
      "source": [
        "class OscillatorsDataset(Dataset):\n",
        "    \"\"\"\n",
        "    Dampled Coupled Oscillators synthetic dataset.\n",
        "    \n",
        "    Produces data for the system\n",
        "    \n",
        "    |-spring-mass-spring-mass-spring-| w/ 'air' resistance\n",
        "    \n",
        "    where | are walls (i.e. immovable boundaries), described by\n",
        "    \n",
        "    f_i = k*(x_j - 2*x_i) - c*v_i\n",
        "    \n",
        "    for force f, displacements x, and velocity v.\n",
        "    \n",
        "    Parameters\n",
        "        n       : int, number of samples\n",
        "        dt      : float, time step\n",
        "        freq    : int, how frequently to sample (multiple of dt)\n",
        "        samples : int, how many samples to take (multiples of freq)\n",
        "                  (an extra sample is include for t=0)\n",
        "        m1,m2   : float, masses\n",
        "        x1,x2   : float, initial positions\n",
        "        v1,v2   : float, initial velocities\n",
        "        k       : float, (ideal) spring constant\n",
        "        c       : float, 'air' resistance constant\n",
        "    any of (m_,k,c,x_,v_) can be unspecified and will be sampled over as\n",
        "        m1,m2   : Uniform(0.5,2)\n",
        "        x1,x2   : Uniform(-1,1)\n",
        "        v1,v2   : Uniform(-1,1)\n",
        "        k       : Uniform(0.2,1)\n",
        "        c       : Uniform(0.5,2)\n",
        "    the time step, freq and samples default to\n",
        "        dt      : 0.01\n",
        "        freq    : 10\n",
        "        samples : 10\n",
        "    n defaults to 1.\n",
        "    \n",
        "    The 'inputs' are the sampled parameters, i.e. if only the initial\n",
        "    positions are left unspecified and the 'outputs' are the positions\n",
        "    over time (x1(t),x2(t)).\n",
        "    \n",
        "    Output times are normalised to run 0 to 1, such that the first sample\n",
        "    is always at time = 0 and the final is always at time = 1.\n",
        "    \"\"\"\n",
        "    \n",
        "    def __init__(self, n=1, dt=0.01, freq=100, samples=10,\n",
        "                 m1=None, m2=None, x1=None, x2=None, v1=None, v2=None,\n",
        "                 k=None, c=None, verbose=True):\n",
        "        \n",
        "        self.n = n\n",
        "        self.dt = dt\n",
        "        self.freq = freq\n",
        "        self.samples = samples\n",
        "        # + 1 for the extra sample at t = 0\n",
        "        self.total_steps = freq*samples + 1\n",
        "        # normalised times\n",
        "        self.times = torch.arange(0,self.samples+1,1)/(1.*self.samples)\n",
        "        \n",
        "        fixed = {}\n",
        "        \n",
        "        if m1 is not None:\n",
        "            self.m1 = m1\n",
        "            fixed['m1'] = m1\n",
        "        if m2 is not None:\n",
        "            self.m2 = m2\n",
        "            fixed['m2'] = m2\n",
        "        if x1 is not None:\n",
        "            self.x1 = x1\n",
        "            fixed['x1'] = x1\n",
        "        if x2 is not None:\n",
        "            self.x2 = x2\n",
        "            fixed['x2'] = x2\n",
        "        if v1 is not None:\n",
        "            self.v1 = v1\n",
        "            fixed['v1'] = v1\n",
        "        if v2 is not None:\n",
        "            self.v2 = v2\n",
        "            fixed['v2'] = v2\n",
        "        if k is not None:\n",
        "            self.k = k\n",
        "            fixed['k'] = k\n",
        "        if c is not None:\n",
        "            self.c = c\n",
        "            fixed['c'] = c\n",
        "        \n",
        "        if verbose:\n",
        "            print('Fixed paramters', fixed)\n",
        "            print('Varying parameters', {'m1','m2','x1','x2',\n",
        "                                         'v1','v2','k','c'}-set(fixed.keys()))\n",
        "        \n",
        "        self.data = []\n",
        "        # generate data\n",
        "        for _ in range(self.n):\n",
        "            description, conditions = self.description_and_conditions()\n",
        "            output = self.single_run(**conditions)\n",
        "            self.data.append((description, output, self.times))\n",
        "        \n",
        "    def __getitem__(self, index):\n",
        "        return self.data[index]\n",
        "    \n",
        "    def __len__(self):\n",
        "        return self.n\n",
        "    \n",
        "    def description_and_conditions(self):\n",
        "        \"\"\"\n",
        "        Return a sample of initial conditions, with those specified at\n",
        "        input being fixed and the unspecified being the description, too.\n",
        "        \"\"\"\n",
        "        description = []\n",
        "        if 'm1' in self.__dict__.keys():\n",
        "            m1 = self.m1\n",
        "        else:\n",
        "            m1 = 0.5+1.5*np.random.rand()\n",
        "            description.append(m1)\n",
        "        if 'm2' in self.__dict__.keys():\n",
        "            m2 = self.m2\n",
        "        else:\n",
        "            m2 = 0.5+1.5*np.random.rand()\n",
        "            description.append(m2)\n",
        "        if 'x1' in self.__dict__.keys():\n",
        "            x1 = self.x1\n",
        "        else:\n",
        "            x1 = -1.+2*np.random.rand()\n",
        "            description.append(x1)\n",
        "        if 'x2' in self.__dict__.keys():\n",
        "            x2 = self.x2\n",
        "        else:\n",
        "            x2= -1.+2*np.random.rand()\n",
        "            description.append(x2)\n",
        "        if 'v1' in self.__dict__.keys():\n",
        "            v1 = self.v1\n",
        "        else:\n",
        "            v1= -1.+2*np.random.rand()\n",
        "            description.append(v1)\n",
        "        if 'v2' in self.__dict__.keys():\n",
        "            v2 = self.v2\n",
        "        else:\n",
        "            v2= -1.+2*np.random.rand()\n",
        "            description.append(v2)\n",
        "        if 'k' in self.__dict__.keys():\n",
        "            k = self.k\n",
        "        else:\n",
        "            k= 0.2+0.8*np.random.rand()\n",
        "            description.append(k)\n",
        "        if 'c' in self.__dict__.keys():\n",
        "            c = self.c\n",
        "        else:\n",
        "            c = 0.2+0.8*np.random.rand() \n",
        "            description.append(c)\n",
        "        \n",
        "        conditions = {\n",
        "            'm1' : m1,\n",
        "            'm2' : m2,\n",
        "            'x1' : x1,\n",
        "            'x2' : x2,\n",
        "            'v1' : v1,\n",
        "            'v2' : v2,\n",
        "            'k' : k,\n",
        "            'c' : c,\n",
        "        }\n",
        "        \n",
        "        return torch.FloatTensor(description), conditions\n",
        "    \n",
        "    def single_run(self,m1,m2,x1,x2,v1,v2,k,c):\n",
        "        output = []\n",
        "        for step in range(self.total_steps):\n",
        "            if step % self.freq == 0:\n",
        "                output.append([x1,x2])\n",
        "            \n",
        "            a1 = k*(x2-2*x1) - c*v1\n",
        "            a2 = k*(x1-2*x2) - c*v2\n",
        "            \n",
        "            x1 += dt*v1\n",
        "            x2 += dt*v2\n",
        "            v1 += dt*a1\n",
        "            v2 += dt*a2\n",
        "    \n",
        "        return torch.FloatTensor(output)"
      ],
      "execution_count": 4,
      "outputs": []
    },
    {
      "cell_type": "markdown",
      "metadata": {
        "id": "IZoplcktcsjY"
      },
      "source": [
        "### Examples of distributions over dynamics"
      ]
    },
    {
      "cell_type": "code",
      "metadata": {
        "id": "FEKy1W6Ecsja"
      },
      "source": [
        "txt_color = 'black'\n",
        "plt.rcParams['text.color'] = txt_color\n",
        "plt.rcParams['axes.labelcolor'] = txt_color\n",
        "plt.rcParams['xtick.color'] = txt_color\n",
        "plt.rcParams['ytick.color'] = txt_color"
      ],
      "execution_count": 5,
      "outputs": []
    },
    {
      "cell_type": "markdown",
      "metadata": {
        "id": "bv_tV_wbcsja"
      },
      "source": [
        "#### Varying initial positions only"
      ]
    },
    {
      "cell_type": "code",
      "metadata": {
        "colab": {
          "base_uri": "https://localhost:8080/",
          "height": 332
        },
        "id": "S98sPkB7csja",
        "outputId": "72e487a5-d7f3-4fa1-d97c-13c19eaab4ab"
      },
      "source": [
        "# dataset params\n",
        "n = 500\n",
        "dt, freq, samples = 0.01, 20, 50\n",
        "m1 = m2 = 1\n",
        "v1 = v2 = 0\n",
        "c = k = 1\n",
        "# x1,x2 are unspecified as they are the parameters that will vary over runs\n",
        "dataset = OscillatorsDataset(n,dt,freq,samples,\n",
        "                             m1=m1,m2=m2,v1=v1,v2=v2,k=k,c=c)\n",
        "train_loader = DataLoader(dataset, batch_size=1)\n",
        "\n",
        "for inputs, labels, times in train_loader:\n",
        "    plt.plot(times[0], labels[0,:,0], alpha=0.03, c='k')\n",
        "plt.title('Trajectories for various starting positions.')\n",
        "custom_lines = [Line2D([0], [0], color='k', lw=2)]\n",
        "plt.legend(custom_lines, ['$x_1$'])\n",
        "plt.xlabel('Normalised time, $t$')\n",
        "plt.ylabel('Displacement, $x$')\n",
        "plt.show()"
      ],
      "execution_count": 6,
      "outputs": [
        {
          "output_type": "stream",
          "text": [
            "Fixed paramters {'m1': 1, 'm2': 1, 'v1': 0, 'v2': 0, 'k': 1, 'c': 1}\n",
            "Varying parameters {'x2', 'x1'}\n"
          ],
          "name": "stdout"
        },
        {
          "output_type": "display_data",
          "data": {
            "image/png": "[encoded data removed]",
            "text/plain": [
              "<Figure size 432x288 with 1 Axes>"
            ]
          },
          "metadata": {
            "tags": [],
            "needs_background": "light"
          }
        }
      ]
    },
    {
      "cell_type": "markdown",
      "metadata": {
        "id": "U1XUj1Iccsjb"
      },
      "source": [
        "#### Varying $k$ only"
      ]
    },
    {
      "cell_type": "code",
      "metadata": {
        "colab": {
          "base_uri": "https://localhost:8080/",
          "height": 334
        },
        "id": "wK4NExDecsjb",
        "outputId": "119ecf72-e66d-4f3e-bfd1-243390772ac1"
      },
      "source": [
        "# dataset params\n",
        "n = 500\n",
        "dt, freq, samples = 0.01, 20, 50\n",
        "m1 = m2 = 1\n",
        "x1 = 1\n",
        "x2 = -1\n",
        "v1 = v2 = 0\n",
        "c = 1\n",
        "# x1,x2 are unspecified as they are the parameters that will vary over runs\n",
        "dataset = OscillatorsDataset(n,dt,freq,samples,\n",
        "                             m1=m1,m2=m2,x1=x1,x2=x2,v1=v1,v2=v2,c=c)\n",
        "train_loader = DataLoader(dataset, batch_size=1)\n",
        "\n",
        "for inputs, labels, times in train_loader:\n",
        "    plt.plot(times[0], labels[0,:,0], alpha=0.03, c='r')\n",
        "    plt.plot(times[0], labels[0,:,1], alpha=0.03, c='b')\n",
        "plt.title('Trajectories with varying spring stiffness, $k$.')\n",
        "custom_lines = [Line2D([0], [0], color='r', lw=2),\n",
        "                Line2D([0], [0], color='b', lw=2)]\n",
        "plt.legend(custom_lines, ['$x_1$', '$x_2$'])\n",
        "plt.xlabel('Normalised time, $t$')\n",
        "plt.ylabel('Displacement, $x$')\n",
        "plt.show()"
      ],
      "execution_count": 7,
      "outputs": [
        {
          "output_type": "stream",
          "text": [
            "Fixed paramters {'m1': 1, 'm2': 1, 'x1': 1, 'x2': -1, 'v1': 0, 'v2': 0, 'c': 1}\n",
            "Varying parameters {'k'}\n"
          ],
          "name": "stdout"
        },
        {
          "output_type": "display_data",
          "data": {
            "image/png": "[encoded data removed]",
            "text/plain": [
              "<Figure size 432x288 with 1 Axes>"
            ]
          },
          "metadata": {
            "tags": [],
            "needs_background": "light"
          }
        }
      ]
    },
    {
      "cell_type": "markdown",
      "metadata": {
        "id": "klu1oGBScsjb"
      },
      "source": [
        "## LUPI-NDP\n",
        "In the _learning under privileged information_ (LUPI) setting, we are able to provide our model with additional information during training that we hope will improve test-time performance. Conceptually, this is framed as a teacher providing some key insight to a student to help them develop a better world model than they might develop in isolation.\n",
        "\n",
        "Practically, for NDPs I'm going to try using this information to produce better representations that the model will try to match with the context-only representation. In this way we are encouraging the model to extract the privileged information representation directly from observations. Something like\n",
        "\n",
        "Produce a context-only representation\n",
        "$$\n",
        "(x_i^C,t_i^C) \\rightarrow r_i^C \\rightarrow r^C \\\\\n",
        "z^C \\sim \\textrm{N}(\\mu(r^C),\\sigma(r^C)) \\\\\n",
        "$$\n",
        "produce a targets ($C\\subset T$) and PI representation\n",
        "$$\n",
        "(x_i^T,t_i^T) \\rightarrow r_i^T \\rightarrow r^T \\\\\n",
        "PI \\rightarrow r^P \\\\\n",
        "(r^P, r^T) \\rightarrow r^{PT} \\\\\n",
        "z^{PT} \\sim \\textrm{N}(\\mu(r^{PT}),\\sigma(r^{PT})) \\\\\n",
        "$$\n",
        "includes the KL term\n",
        "$$\n",
        "\\textrm{D}_{KL}(r^{PT}||r^C)\n",
        "$$\n",
        "in the loss. (From this perspective we could also frame the standard training procedure for NPs, where we produce context-only and target representations, as a kind of LUPI too.)\n",
        "\n",
        "### Code\n",
        "```\n",
        "Observation encoder: (x_i,t_i) ⟶ r_i\n",
        "P.I. encoder: (PI) ⟶ r_p\n",
        "Representation aggregator: (r_i, _) or (r_i, r_p) ⟶ r\n",
        "Representation to global latent variable: r ⟶ z ~ N(mu, sigma)\n",
        "Global latent sample to ODE initial condition: z' ⟶ L(t=0) = L_0\n",
        "ODEfunc: (L, z, t) ⟶ dL/dt\n",
        "Decoder: L(t) ⟶ x(t)\n",
        "```"
      ]
    },
    {
      "cell_type": "code",
      "metadata": {
        "id": "MUrmmacBcsjc"
      },
      "source": [
        "class obs_encoder(nn.Module):\n",
        "    \"\"\"\n",
        "    Takes raw observations (x_i, t_i) and produces a representation r_i.\n",
        "    \"\"\"\n",
        "    \n",
        "    def __init__(\n",
        "        self,\n",
        "        obs_dim: int,\n",
        "        h_dim: int,\n",
        "        r_dim: int\n",
        "    ):\n",
        "        super(obs_encoder, self).__init__()\n",
        "        \n",
        "        layers = [\n",
        "            nn.Linear(obs_dim+1,h_dim),\n",
        "            nn.ReLU(),\n",
        "            nn.Linear(h_dim,h_dim),\n",
        "            nn.ReLU(),\n",
        "            nn.Linear(h_dim,r_dim)\n",
        "        ]\n",
        "        \n",
        "        self.layers = torch.nn.Sequential(*layers)\n",
        "    \n",
        "    def forward(self, observations, times):\n",
        "        return self.layers(torch.cat([observations, times.unsqueeze(-1)],-1))"
      ],
      "execution_count": 8,
      "outputs": []
    },
    {
      "cell_type": "code",
      "metadata": {
        "id": "Tn0ByQuLcsjc"
      },
      "source": [
        "class pi_encoder(nn.Module):\n",
        "    \"\"\"\n",
        "    Takes the privileged information signal and produces a representation r_p.\n",
        "    \"\"\"\n",
        "    def __init__(\n",
        "        self,\n",
        "        pi_dim: int,\n",
        "        h_dim: int,\n",
        "        r_dim: int\n",
        "    ):\n",
        "        super(pi_encoder, self).__init__()\n",
        "        \n",
        "        layers = [\n",
        "            nn.Linear(pi_dim,h_dim),\n",
        "            nn.ReLU(),\n",
        "            nn.Linear(h_dim,h_dim),\n",
        "            nn.ReLU(),\n",
        "            nn.Linear(h_dim,r_dim)\n",
        "        ]\n",
        "        \n",
        "        self.layers = torch.nn.Sequential(*layers)\n",
        "    \n",
        "    def forward(self, x):\n",
        "        return self.layers(x)"
      ],
      "execution_count": 9,
      "outputs": []
    },
    {
      "cell_type": "code",
      "metadata": {
        "id": "gWq6mLhLcsjc"
      },
      "source": [
        "class r_aggregator(nn.Module):\n",
        "    \"\"\"\n",
        "    Takes mixed representations from observations and privileged information and\n",
        "    produces a single task representation.\n",
        "    \n",
        "    In evaluation mode privileged information should not be used and a warning will\n",
        "    given if this is attempted.\n",
        "    \"\"\"\n",
        "    def __init__(\n",
        "        self,\n",
        "        aggs: list,\n",
        "        obs_r_dim: int,\n",
        "        pi_r_dim: int,\n",
        "        h_dim: int\n",
        "    ):\n",
        "        super(r_aggregator, self).__init__()\n",
        "        \n",
        "        self.aggs = aggs\n",
        "        \n",
        "        for agg in self.aggs:\n",
        "            if agg not in ['mean','max','min','logsumexp']:\n",
        "                raise ValueError(f'Aggregator {agg} is not supported.')\n",
        "        \n",
        "        # when using privileged information we combine it with a small ResNet\n",
        "        layers = [\n",
        "            nn.Linear(obs_r_dim*len(self.aggs)+pi_r_dim,h_dim),\n",
        "            nn.ReLU(),\n",
        "            nn.Linear(h_dim,h_dim),\n",
        "            nn.ReLU(),\n",
        "            nn.Linear(h_dim,obs_r_dim*len(self.aggs))\n",
        "        ]\n",
        "        \n",
        "        self.layers = torch.nn.Sequential(*layers)\n",
        "        \n",
        "    def aggregate(self, obs_r):\n",
        "        # concatentate the aggregator outputs\n",
        "        agg = []\n",
        "        if 'max' in self.aggs:\n",
        "            agg.append(torch.max(obs_r,0).values)\n",
        "        if 'min' in self.aggs:\n",
        "            agg.append(torch.min(obs_r,0).values)\n",
        "        if 'logsumexp' in self.aggs:\n",
        "            agg.append(torch.logsumexp(obs_r,0))\n",
        "        if 'mean' in self.aggs:\n",
        "            agg.append(torch.mean(obs_r,0))\n",
        "        \n",
        "        return torch.cat(agg, 0)\n",
        "        \n",
        "    def forward(self, r_i, r_p=None):\n",
        "        if not self.training and r_p is not None:\n",
        "            warnings.warn('Privileged information provided to the aggregator in evaluation mode.')\n",
        "        \n",
        "        # aggregate observations\n",
        "        r_obs = self.aggregate(r_i)\n",
        "        \n",
        "        # if we have privileged information, use the resnet\n",
        "        # r_obs' = r_obs + f(r_obs, r_p)\n",
        "        if r_p is not None:\n",
        "            r_obs = r_obs + self.layers(torch.cat([r_obs, r_p], -1))\n",
        "        \n",
        "        return r_obs"
      ],
      "execution_count": 10,
      "outputs": []
    },
    {
      "cell_type": "code",
      "metadata": {
        "id": "fkFVLyDQcsjc"
      },
      "source": [
        "class r_to_z(nn.Module):\n",
        "    \"\"\"\n",
        "    From task representation to global latent variable.\n",
        "    \"\"\"\n",
        "    def __init__(\n",
        "        self,\n",
        "        aggregated_r_dim,\n",
        "        h_dim,\n",
        "        z_dim\n",
        "    ):\n",
        "        super(r_to_z, self).__init__()\n",
        "        \n",
        "        layers = [\n",
        "            nn.Linear(aggregated_r_dim,h_dim),\n",
        "            nn.ReLU(),\n",
        "            nn.Linear(h_dim,h_dim),\n",
        "            nn.ReLU()\n",
        "        ]\n",
        "        \n",
        "        self.layers = torch.nn.Sequential(*layers)\n",
        "        \n",
        "        self.h_to_mu = torch.nn.Linear(h_dim, z_dim)\n",
        "        self.h_to_sigma = torch.nn.Linear(h_dim, z_dim)\n",
        "        \n",
        "    def forward(self, r):\n",
        "        h = self.layers(r)\n",
        "        mu = self.h_to_mu(h)\n",
        "        sigma = 0.1 + 0.9*torch.sigmoid(self.h_to_sigma(h))\n",
        "        \n",
        "        return Normal(mu, sigma)"
      ],
      "execution_count": 11,
      "outputs": []
    },
    {
      "cell_type": "code",
      "metadata": {
        "id": "-RX3w1krcsjd"
      },
      "source": [
        "class z_to_L0(nn.Module):\n",
        "    \"\"\"\n",
        "    Use a sample from the global latent variable to produce the initial L value.\n",
        "    \"\"\"\n",
        "    def __init__(\n",
        "        self,\n",
        "        z_dim,\n",
        "        h_dim,\n",
        "        L_dim\n",
        "    ):\n",
        "        super(z_to_L0, self).__init__()\n",
        "        \n",
        "        layers = [\n",
        "            nn.Linear(z_dim,h_dim),\n",
        "            nn.ReLU(),\n",
        "            nn.Linear(h_dim,h_dim),\n",
        "            nn.ReLU(),\n",
        "            nn.Linear(h_dim,L_dim)\n",
        "        ]\n",
        "        \n",
        "        self.layers = torch.nn.Sequential(*layers)\n",
        "        \n",
        "    def forward(self, z_sample):\n",
        "        return self.layers(z_sample)"
      ],
      "execution_count": 12,
      "outputs": []
    },
    {
      "cell_type": "code",
      "metadata": {
        "id": "eOxidaEvcsjd"
      },
      "source": [
        "class conditional_ODE_func(nn.Module):\n",
        "    \"\"\"\n",
        "    Conditional derivative function.\n",
        "    \n",
        "    Input is a concatentation of the ODE latent state and the global latent variable sample,\n",
        "    and the time\n",
        "        (L || z, t)\n",
        "    Output is the derivative at that time\n",
        "        (dL || dz)\n",
        "    with dz set to 0.\n",
        "    \n",
        "    This is a 'hacky' way to condition the ODE without letting the sample varying.\n",
        "    \"\"\"\n",
        "    \n",
        "    def __init__(\n",
        "        self,\n",
        "        L_dim,\n",
        "        z_dim,\n",
        "        h_dim\n",
        "    ):\n",
        "        super(conditional_ODE_func, self).__init__()\n",
        "        \n",
        "        layers = [\n",
        "            torch.nn.Linear(L_dim+z_dim+1,h_dim),\n",
        "            torch.nn.Softplus(),\n",
        "            torch.nn.Linear(h_dim,h_dim),\n",
        "            torch.nn.Softplus(),\n",
        "            torch.nn.Linear(h_dim,L_dim)\n",
        "        ]\n",
        "        \n",
        "        self.latent_func = torch.nn.Sequential(*layers)\n",
        "        \n",
        "        self.L_dim = L_dim\n",
        "        \n",
        "        self.nfe = 0\n",
        "    \n",
        "    def forward(self, t, L_z):\n",
        "        self.nfe += 1\n",
        "        z = L_z[self.L_dim:]\n",
        "        L_z_t = torch.cat([L_z,t.unsqueeze(-1)])\n",
        "        dL = self.latent_func(L_z_t)\n",
        "        dz = torch.zeros_like(z)\n",
        "        \n",
        "        return torch.cat([dL,dz])"
      ],
      "execution_count": 13,
      "outputs": []
    },
    {
      "cell_type": "code",
      "metadata": {
        "id": "mjuASiVTcsjd"
      },
      "source": [
        "class decoder(nn.Module):\n",
        "    \"\"\"\n",
        "    Produce an output from the ODE latent state and the global latent variable sample.\n",
        "    \"\"\"\n",
        "    def __init__(\n",
        "        self,\n",
        "        L_dim,\n",
        "        z_dim,\n",
        "        h_dim,\n",
        "        output_dim\n",
        "    ):\n",
        "        super(decoder, self).__init__()\n",
        "        \n",
        "        layers = [\n",
        "            torch.nn.Linear(L_dim+z_dim,h_dim),\n",
        "            torch.nn.ReLU(),\n",
        "            torch.nn.Linear(h_dim,h_dim),\n",
        "            torch.nn.ReLU()\n",
        "        ]\n",
        "        \n",
        "        self.shared_layers = torch.nn.Sequential(*layers)\n",
        "        \n",
        "        self.hidden_to_mu = torch.nn.Linear(h_dim, output_dim)\n",
        "        self.hidden_to_sigma = torch.nn.Linear(h_dim, output_dim)\n",
        "        \n",
        "    def forward(self, L_z_t):\n",
        "        \n",
        "        hidden = self.shared_layers(L_z_t)\n",
        "        mu = self.hidden_to_mu(hidden)\n",
        "        sigma = 0.1 + 0.9*F.softplus(self.hidden_to_sigma(hidden))\n",
        "        return Normal(mu, sigma)"
      ],
      "execution_count": 14,
      "outputs": []
    },
    {
      "cell_type": "code",
      "metadata": {
        "id": "fwu0xYqScsje"
      },
      "source": [
        "class LUPI_NDP(nn.Module):\n",
        "    \n",
        "    def __init__(\n",
        "        self,\n",
        "        x_dim,\n",
        "        obs_enc_h_dim,\n",
        "        r_dim,\n",
        "        pi_dim,\n",
        "        pi_enc_h_dim,\n",
        "        aggregators,\n",
        "        agg_h_dim,\n",
        "        r2z_h_dim,\n",
        "        z_dim,\n",
        "        z_to_L_h_dim,\n",
        "        L_dim,\n",
        "        ode_h_dim,\n",
        "        dec_h_dim\n",
        "    ):\n",
        "        super(LUPI_NDP, self).__init__()\n",
        "        \n",
        "        task_r_dim = len(aggregators)*r_dim\n",
        "        \n",
        "        # note that the obs_r_dim and pi_r_dim needn't be the same\n",
        "        self.observations_encoder = obs_encoder(x_dim, obs_enc_h_dim, r_dim)\n",
        "        self.privileged_info_encoder = pi_encoder(pi_dim, pi_enc_h_dim, r_dim)\n",
        "        self.representation_aggregator = r_aggregator(aggregators, r_dim, r_dim, agg_h_dim)\n",
        "        self.representation_to_global_latent = r_to_z(task_r_dim, r2z_h_dim, z_dim)\n",
        "        self.global_latent_to_initial_value = z_to_L0(z_dim, z_to_L_h_dim, L_dim)\n",
        "        self.odefunc = conditional_ODE_func(L_dim, z_dim, ode_h_dim)\n",
        "        self.decoder = decoder(L_dim, z_dim, dec_h_dim, x_dim)\n",
        "        \n",
        "    def forward(self, observations, times, p_info, context_idx, target_idx):\n",
        "        if self.training:\n",
        "            # encode\n",
        "            r_i = self.observations_encoder(observations, times)\n",
        "            r_p = self.privileged_info_encoder(p_info)\n",
        "            # aggregate\n",
        "            r_C = self.representation_aggregator(r_i[context_idx],None)\n",
        "            r_T = self.representation_aggregator(r_i[target_idx],r_p)\n",
        "            # parametrise\n",
        "            z_C = self.representation_to_global_latent(r_C)\n",
        "            z_T = self.representation_to_global_latent(r_T)\n",
        "            # sample (from target Z during training)\n",
        "            z_ = z_T.rsample()\n",
        "            # initialise and evolve\n",
        "            L0 = self.global_latent_to_initial_value(z_)\n",
        "            L_z = torch.cat([L0,z_])\n",
        "            ################ this bit won't work with batching yet\n",
        "            L_z_t = odeint(self.odefunc, L_z, times[target_idx])\n",
        "            return z_C, z_T, self.decoder(L_z_t)\n",
        "        \n",
        "        else:\n",
        "            # encode\n",
        "            r_i = self.observations_encoder(observations[context_idx],\n",
        "                                            times[context_idx])\n",
        "            # aggregate\n",
        "            r_C = self.representation_aggregator(r_i,None)\n",
        "            # parametrise\n",
        "            z_C = self.representation_to_global_latent(r_C)\n",
        "            # sample (from context Z during eval.)\n",
        "            z_ = z_C.rsample()\n",
        "            # initialise and evolve\n",
        "            L0 = self.global_latent_to_initial_value(z_)\n",
        "            L_z = torch.cat([L0,z_])\n",
        "            ################ this bit won't work with batching yet\n",
        "            L_z_t = odeint(self.odefunc, L_z, times[target_idx].squeeze())\n",
        "            return self.decoder(L_z_t)"
      ],
      "execution_count": 15,
      "outputs": []
    },
    {
      "cell_type": "markdown",
      "metadata": {
        "id": "f_L3xRG0csje"
      },
      "source": [
        "#### Generate the dataset and divide into training, validation and testing splits"
      ]
    },
    {
      "cell_type": "code",
      "metadata": {
        "colab": {
          "base_uri": "https://localhost:8080/"
        },
        "id": "Ocrb76Tscsje",
        "outputId": "8ca5b8ec-eb0d-4ed2-fd62-fcbc824661da"
      },
      "source": [
        "# dataset params\n",
        "n = 500\n",
        "dt, freq, samples = 0.01, 20, 50\n",
        "m1 = m2 = 1\n",
        "x1 = 1\n",
        "x2 = -1\n",
        "v1 = v2 = 0\n",
        "c = 1\n",
        "# x1,x2 are unspecified as they are the parameters that will vary over runs\n",
        "dataset = OscillatorsDataset(n,dt,freq,samples,\n",
        "                             m1=m1,m2=m2,x1=x1,x2=x2,v1=v1,v2=v2,c=c)\n",
        "training = dataset[:int(n*0.8)]\n",
        "validation = dataset[int(n*0.8):int(n*0.9)]\n",
        "testing = dataset[int(n*0.9):]\n",
        "\n",
        "train_loader = DataLoader(training, batch_size=1)\n",
        "val_loader = DataLoader(validation, batch_size=1)\n",
        "test_loader = DataLoader(testing, batch_size=1)"
      ],
      "execution_count": 16,
      "outputs": [
        {
          "output_type": "stream",
          "text": [
            "Fixed paramters {'m1': 1, 'm2': 1, 'x1': 1, 'x2': -1, 'v1': 0, 'v2': 0, 'c': 1}\n",
            "Varying parameters {'k'}\n"
          ],
          "name": "stdout"
        }
      ]
    },
    {
      "cell_type": "markdown",
      "metadata": {
        "id": "cBgxPb5gcsje"
      },
      "source": [
        "#### Define the model and training hyperparameters"
      ]
    },
    {
      "cell_type": "code",
      "metadata": {
        "id": "GSOaUJ81csjf"
      },
      "source": [
        "x_dim = 2\n",
        "obs_enc_h_dim = 11\n",
        "r_dim = 18\n",
        "pi_dim = 1\n",
        "pi_enc_h_dim = 11\n",
        "aggregators = ['logsumexp','mean']\n",
        "agg_h_dim = 17\n",
        "r2z_h_dim = 19\n",
        "z_dim = 23\n",
        "z_to_L_h_dim = 21\n",
        "L_dim = 5\n",
        "ode_h_dim = 13\n",
        "dec_h_dim = 19\n",
        "\n",
        "model = LUPI_NDP(x_dim, obs_enc_h_dim, r_dim,\n",
        "                 pi_dim, pi_enc_h_dim,\n",
        "                 aggregators, agg_h_dim,\n",
        "                 r2z_h_dim, z_dim, z_to_L_h_dim,\n",
        "                 L_dim, ode_h_dim, dec_h_dim).to(device)"
      ],
      "execution_count": 17,
      "outputs": []
    },
    {
      "cell_type": "code",
      "metadata": {
        "id": "AcpjptWfcsjf"
      },
      "source": [
        "learning_rate = 1e-3\n",
        "epochs = 1\n",
        "validate_and_print = 10\n",
        "train_n = len(training)\n",
        "val_n = len(validation)\n",
        "\n",
        "context_range = range(5,10)\n",
        "# target size includes context size\n",
        "target_range = range(15,51)\n",
        "\n",
        "optimizer = torch.optim.Adam(model.parameters(), lr=learning_rate)"
      ],
      "execution_count": 18,
      "outputs": []
    },
    {
      "cell_type": "markdown",
      "metadata": {
        "id": "gNQzw69Rcsjf"
      },
      "source": [
        "#### Single pass (untrained)"
      ]
    },
    {
      "cell_type": "code",
      "metadata": {
        "colab": {
          "base_uri": "https://localhost:8080/",
          "height": 265
        },
        "id": "Nedv8dO6csjf",
        "outputId": "ff85db84-a6af-4c04-b7be-c8699d720f03"
      },
      "source": [
        "pi, x, times = next(iter(train_loader))\n",
        "pi, x, times = pi.to(device), x.to(device), times.to(device)\n",
        "\n",
        "context_range = range(5,10)\n",
        "target_range = range(15,51)\n",
        "\n",
        "context_size = random.sample(context_range,1)[0] # some number in the range 5 to 9\n",
        "target_size = random.sample(target_range,1)[0] # some number in the range 15 to 50\n",
        "target_idx = random.sample(range(samples),target_size) # a set of indices\n",
        "context_idx = random.sample(target_idx, context_size) # a subset of the target indices\n",
        "target_idx.sort()\n",
        "context_idx.sort()\n",
        "target_idx = torch.LongTensor(target_idx)\n",
        "context_idx = torch.LongTensor(context_idx)\n",
        "\n",
        "\n",
        "# haven't sorted out time sampled batching properly yet so squeezing out the batch dim\n",
        "zC,zT,preds = model(x.squeeze(0), times.squeeze(0), pi.squeeze(0), context_idx, target_idx)\n",
        "plt.scatter(times.to('cpu').squeeze(0)[target_idx],x.to('cpu').squeeze(0)[target_idx][:,0], label='Targets')\n",
        "plt.scatter(times.to('cpu').squeeze(0)[context_idx],x.to('cpu').squeeze(0)[context_idx][:,0], label='Context')\n",
        "plt.plot(times.to('cpu').squeeze(0)[target_idx],preds.loc[:,0].to('cpu').detach(), color='k', label='Prediction')\n",
        "plt.legend()\n",
        "plt.show()"
      ],
      "execution_count": 19,
      "outputs": [
        {
          "output_type": "display_data",
          "data": {
            "image/png": "[encoded data removed]",
            "text/plain": [
              "<Figure size 432x288 with 1 Axes>"
            ]
          },
          "metadata": {
            "tags": [],
            "needs_background": "light"
          }
        }
      ]
    },
    {
      "cell_type": "markdown",
      "metadata": {
        "id": "iKgahK5hcsjf"
      },
      "source": [
        "### Training"
      ]
    },
    {
      "cell_type": "code",
      "metadata": {
        "id": "XqegONIScsjf"
      },
      "source": [
        "for epoch in range(epochs):\n",
        "    total_epoch_loss = 0\n",
        "    recon_epoch_loss = 0\n",
        "    kl_epoch_loss = 0\n",
        "    # training loop\n",
        "    for i,batch in enumerate(train_loader):\n",
        "        optimizer.zero_grad()\n",
        "        \n",
        "        pi, x, times = batch\n",
        "        pi, x, times = pi.to(device), x.to(device), times.to(device)\n",
        "        \n",
        "        # context/target idx\n",
        "        context_size = random.sample(context_range,1)[0]\n",
        "        target_size = random.sample(target_range,1)[0]\n",
        "        # during training, context are a subset of targets\n",
        "        target_idx = random.sample(range(samples),target_size)\n",
        "        context_idx = random.sample(target_idx, context_size)\n",
        "        target_idx.sort()\n",
        "        context_idx.sort()\n",
        "        target_idx = torch.LongTensor(target_idx).to(device)\n",
        "        context_idx = torch.LongTensor(context_idx).to(device)\n",
        "        \n",
        "        zC, zT, preds = model(x.squeeze(0),\n",
        "                              times.squeeze(0),\n",
        "                              pi.squeeze(0),\n",
        "                              context_idx,\n",
        "                              target_idx)\n",
        "\n",
        "        # reconstruction term\n",
        "        log_likelihood = preds.log_prob(x.squeeze(0)[target_idx]).sum()\n",
        "        # kl term\n",
        "        kl = kl_divergence(zT, zC).sum()\n",
        "        \n",
        "        loss = -log_likelihood + kl\n",
        "\n",
        "        loss.backward()\n",
        "        \n",
        "        optimizer.step()\n",
        "        \n",
        "        total_epoch_loss += loss.item()\n",
        "        recon_epoch_loss += -log_likelihood.item()\n",
        "        kl_epoch_loss += kl.item()\n",
        "    # validation and printing loop\n",
        "    with torch.no_grad():\n",
        "        if (epoch+1) % validate_and_print == 0:\n",
        "            model.eval()\n",
        "            val_recon = 0\n",
        "            \n",
        "            for i, batch in enumerate(val_loader):\n",
        "                pi, x, times = batch\n",
        "                pi, x, times = pi.to(device), x.to(device), times.to(device)\n",
        "                \n",
        "                # context/target idx\n",
        "                context_size = random.sample(context_range,1)[0]\n",
        "                # during eval, context and targets are disjoint and targets are all\n",
        "                target_idx = random.sample(range(samples),samples)\n",
        "                context_idx = random.sample(range(samples), context_size)\n",
        "                target_idx = list(set(range(samples))-set(context_idx))\n",
        "                context_idx.sort()\n",
        "                target_idx = torch.LongTensor(target_idx)\n",
        "                context_idx = torch.LongTensor(context_idx)\n",
        "                \n",
        "                preds = model(x.squeeze(0),times.squeeze(0),pi.squeeze(0),\n",
        "                            context_idx,target_idx)\n",
        "                log_likelihood = preds.log_prob(x.squeeze(0)[target_idx]).mean()\n",
        "                \n",
        "                val_recon += -log_likelihood.item()\n",
        "            print_string = (\n",
        "                \"Epoch {0:d} \\t\"\n",
        "                \"Train {1:.0f} / {2:.0f} / {3:.0f} \\t\"\n",
        "                \"Val {4:.0f}\"\n",
        "            ).format(epoch+1,\n",
        "                    total_epoch_loss/train_n, recon_epoch_loss/train_n, kl_epoch_loss/train_n,\n",
        "                    val_recon/val_n)\n",
        "            print(print_string)\n",
        "            model.train()"
      ],
      "execution_count": 20,
      "outputs": []
    },
    {
      "cell_type": "code",
      "metadata": {
        "colab": {
          "base_uri": "https://localhost:8080/",
          "height": 265
        },
        "id": "76HGmQM3JEKX",
        "outputId": "72207b19-5fbf-4a54-c128-8dec3922e87f"
      },
      "source": [
        "pi, x, times = next(iter(train_loader))\n",
        "pi, x, times = pi.to(device), x.to(device), times.to(device)\n",
        "\n",
        "context_range = range(5,10)\n",
        "target_range = range(15,51)\n",
        "\n",
        "context_size = random.sample(context_range,1)[0] # some number in the range 5 to 9\n",
        "target_size = random.sample(target_range,1)[0] # some number in the range 15 to 50\n",
        "target_idx = random.sample(range(samples),target_size) # a set of indices\n",
        "context_idx = random.sample(target_idx, context_size) # a subset of the target indices\n",
        "target_idx.sort()\n",
        "context_idx.sort()\n",
        "target_idx = torch.LongTensor(target_idx)\n",
        "context_idx = torch.LongTensor(context_idx)\n",
        "\n",
        "\n",
        "# haven't sorted out time sampled batching properly yet so squeezing out the batch dim\n",
        "zC,zT,preds = model(x.squeeze(0), times.squeeze(0), pi.squeeze(0), context_idx, target_idx)\n",
        "plt.scatter(times.to('cpu').squeeze(0)[target_idx],x.to('cpu').squeeze(0)[target_idx][:,0], label='Targets')\n",
        "plt.scatter(times.to('cpu').squeeze(0)[context_idx],x.to('cpu').squeeze(0)[context_idx][:,0], label='Context')\n",
        "plt.plot(times.to('cpu').squeeze(0)[target_idx],preds.loc[:,0].to('cpu').detach(), color='k', label='Prediction')\n",
        "plt.legend()\n",
        "plt.show()"
      ],
      "execution_count": 25,
      "outputs": [
        {
          "output_type": "display_data",
          "data": {
            "image/png": "[encoded data removed]",
            "text/plain": [
              "<Figure size 432x288 with 1 Axes>"
            ]
          },
          "metadata": {
            "tags": [],
            "needs_background": "light"
          }
        }
      ]
    },
    {
      "cell_type": "code",
      "metadata": {
        "colab": {
          "base_uri": "https://localhost:8080/",
          "height": 265
        },
        "id": "U_RvW3Gwcsjg",
        "outputId": "4b789794-8873-4413-8e51-301b569550b7"
      },
      "source": [
        "for _ in range(50):\n",
        "    # haven't sorted out time sampled batching properly yet so squeezing out the batch dim\n",
        "    model.train()\n",
        "    zC,zT,train_preds = model(x.squeeze(0), times.squeeze(0), pi.squeeze(0), context_idx, target_idx)\n",
        "    model.eval()\n",
        "    eval_preds = model(x.squeeze(0), times.squeeze(0), pi.squeeze(0), context_idx, target_idx)\n",
        "    plt.plot(times.to('cpu').squeeze(0)[target_idx],train_preds.loc[:,0].to('cpu').detach(), color='b', alpha=0.2)\n",
        "    plt.plot(times.to('cpu').squeeze(0)[target_idx],eval_preds.loc[:,0].to('cpu').detach(), color='r', alpha=0.2)\n",
        "plt.plot(times.to('cpu').squeeze(0), x.to('cpu').squeeze(0)[:,0], label='Ground truth', color='k')\n",
        "plt.scatter(times.to('cpu').squeeze(0)[context_idx],x.to('cpu').squeeze(0)[context_idx][:,0], label='Context',color='k')\n",
        "plt.legend()\n",
        "custom_lines = [Line2D([0], [0], color='b', lw=2),\n",
        "                Line2D([0], [0], color='r', lw=2),\n",
        "                Line2D([0], [0], color='k', lw=2)]\n",
        "plt.legend(custom_lines, ['With P.I. (train)', 'Without P.I. (eval)', 'Ground truth'])\n",
        "plt.show()"
      ],
      "execution_count": 28,
      "outputs": [
        {
          "output_type": "display_data",
          "data": {
            "image/png": "[encoded data removed]",
            "text/plain": [
              "<Figure size 432x288 with 1 Axes>"
            ]
          },
          "metadata": {
            "tags": [],
            "needs_background": "light"
          }
        }
      ]
    },
    {
      "cell_type": "code",
      "metadata": {
        "colab": {
          "base_uri": "https://localhost:8080/",
          "height": 312
        },
        "id": "t8kpWzHrcsjg",
        "outputId": "eecd9dd4-0d06-4ec0-beb7-a919fb38e31f"
      },
      "source": [
        "# sample a bunch of predictions\n",
        "z_samples = 50\n",
        "pi_preds = []\n",
        "nopi_preds = []\n",
        "for _ in range(z_samples):\n",
        "    # haven't sorted out time sampled batching properly yet so squeezing out the batch dim\n",
        "    model.train()\n",
        "    _,_,train_preds = model(x.squeeze(0), times.squeeze(0), pi.squeeze(0), context_idx, target_idx)\n",
        "    pi_preds.append(train_preds.loc[:,0].detach())\n",
        "    model.eval()\n",
        "    eval_preds = model(x.squeeze(0), times.squeeze(0), pi.squeeze(0), context_idx, target_idx)\n",
        "    nopi_preds.append(eval_preds.loc[:,0].detach())\n",
        "pi_mean = torch.stack(pi_preds,0).mean(0).to('cpu')\n",
        "pi_std = torch.stack(pi_preds,0).std(0).to('cpu')\n",
        "eval_mean = torch.stack(nopi_preds,0).mean(0).to('cpu')\n",
        "eval_std = torch.stack(nopi_preds,0).std(0).to('cpu')\n",
        "\n",
        "# plot ±2 std and ±1 std as transparent fills\n",
        "plt.fill_between(times.to('cpu').squeeze(0)[target_idx],eval_mean+2*eval_std,eval_mean-2*eval_std, alpha = 0.1, color='r')\n",
        "plt.fill_between(times.to('cpu').squeeze(0)[target_idx],pi_mean+2*pi_std,pi_mean-2*pi_std, alpha = 0.1, color='b')\n",
        "plt.fill_between(times.to('cpu').squeeze(0)[target_idx],eval_mean+eval_std,eval_mean-eval_std, alpha = 0.2, color='r')\n",
        "plt.fill_between(times.to('cpu').squeeze(0)[target_idx],pi_mean+pi_std,pi_mean-pi_std, alpha = 0.2, color='b')\n",
        "# plot means over the top\n",
        "plt.plot(times.to('cpu').squeeze(0)[target_idx],pi_mean,color='b')\n",
        "plt.plot(times.to('cpu').squeeze(0)[target_idx],eval_mean,color='r')\n",
        "# ground truth in black with context dots\n",
        "plt.plot(times.to('cpu').squeeze(0), x.to('cpu').squeeze(0)[:,0], label='Ground truth', color='k')\n",
        "plt.scatter(times.to('cpu').squeeze(0)[context_idx],x.to('cpu').squeeze(0)[context_idx][:,0], label='Context',color='k')\n",
        "custom_lines = [Line2D([0], [0], color='b', lw=2),\n",
        "                Line2D([0], [0], color='r', lw=2),\n",
        "                Line2D([0], [0], color='k', lw=2)]\n",
        "plt.legend(custom_lines, ['With P.I. (train)', 'Without P.I. (eval)', 'Ground truth'])\n",
        "plt.title('Predictions with and w/o privileged information.\\n Outer shaded region is ±2std, inner is ±1std.')\n",
        "plt.xlabel('$t$')\n",
        "plt.ylabel('$x$')\n",
        "plt.show()"
      ],
      "execution_count": 31,
      "outputs": [
        {
          "output_type": "display_data",
          "data": {
            "image/png": "[encoded data removed]",
            "text/plain": [
              "<Figure size 432x288 with 1 Axes>"
            ]
          },
          "metadata": {
            "tags": [],
            "needs_background": "light"
          }
        }
      ]
    }
  ]
}