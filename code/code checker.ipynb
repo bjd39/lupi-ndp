{
 "cells": [
  {
   "cell_type": "code",
   "execution_count": 41,
   "metadata": {},
   "outputs": [],
   "source": [
    "import torch\n",
    "import pickle"
   ]
  },
  {
   "cell_type": "code",
   "execution_count": 68,
   "metadata": {},
   "outputs": [],
   "source": [
    "\n",
    "from modules import obs_encoder, pi_encoder, r_aggregator, r_to_z, z_to_L0, conditional_ODE_func, decoder\n",
    "from models import LUPI_NDP, NDP"
   ]
  },
  {
   "cell_type": "code",
   "execution_count": 6,
   "metadata": {},
   "outputs": [],
   "source": [
    "from generators import OscillatorsGenerator, LotkaVolterraGenerator"
   ]
  },
  {
   "cell_type": "code",
   "execution_count": 5,
   "metadata": {},
   "outputs": [],
   "source": [
    "evaluation_config = {\n",
    "    # data stuff\n",
    "    'eval_examples' : 500,\n",
    "    'simulator' : {\n",
    "        'dt' : 0.01,\n",
    "        'sampling_freq' : 20,\n",
    "        'samples' : 50\n",
    "    },\n",
    "    'fixed' : {\n",
    "        'm1' : 1,\n",
    "        'm2' : 1,\n",
    "        'x1' : 1,\n",
    "        'x2' : -1,\n",
    "        'v1' : 0,\n",
    "        'v2' : 0,\n",
    "        'k' : 0.5,\n",
    "    },\n",
    "    'varying' : {\n",
    "        'c' : [0.5, 2.]\n",
    "    },\n",
    "    'eval_varying' : {\n",
    "        'c' : [0.5, 2.]\n",
    "    }\n",
    "}\n",
    "\n",
    "lv_evaluation_config = {\n",
    "    # data stuff\n",
    "    'eval_examples' : 500,\n",
    "    'simulator' : {\n",
    "        'dt' : 0.01,\n",
    "        'sampling_freq' : 20,\n",
    "        'samples' : 50\n",
    "    },\n",
    "    'fixed' : {\n",
    "        'a' : 2/3,\n",
    "        'b' : 4/3,\n",
    "        'c' : 1,\n",
    "        'd' : 1,\n",
    "    },\n",
    "    'varying' : {\n",
    "        'u1' : [0.2, 1.],\n",
    "        'v1' : [0.1, 0.5]\n",
    "    },\n",
    "    'eval_varying' : {\n",
    "        'u1' : [0.2, 1.],\n",
    "        'v1' : [0.1, 0.5]\n",
    "    },\n",
    "}"
   ]
  },
  {
   "cell_type": "code",
   "execution_count": 4,
   "metadata": {},
   "outputs": [
    {
     "name": "stdout",
     "output_type": "stream",
     "text": [
      "Evaluation data generation...\n",
      "Fixed paramters {'m1': 1, 'm2': 1, 'x1': 1, 'x2': -1, 'v1': 0, 'v2': 0, 'k': 0.5}\n",
      "Varying parameters {'c': [0.5, 2.0]}\n"
     ]
    }
   ],
   "source": [
    "eval_set = OscillatorsGenerator(evaluation_config, train=False)"
   ]
  },
  {
   "cell_type": "code",
   "execution_count": 7,
   "metadata": {},
   "outputs": [
    {
     "name": "stdout",
     "output_type": "stream",
     "text": [
      "Evaluation data generation...\n",
      "Fixed paramters {'a': 0.6666666666666666, 'b': 1.3333333333333333, 'c': 1, 'd': 1}\n",
      "Varying parameters {'u1': [0.2, 1.0], 'v1': [0.1, 0.5]}\n"
     ]
    }
   ],
   "source": [
    "lv_eval_set = LotkaVolterraGenerator(lv_evaluation_config, train=False)"
   ]
  },
  {
   "cell_type": "code",
   "execution_count": 54,
   "metadata": {},
   "outputs": [],
   "source": [
    "import yaml"
   ]
  },
  {
   "cell_type": "code",
   "execution_count": 71,
   "metadata": {},
   "outputs": [],
   "source": [
    "config = yaml.safe_load(open(\"configs/default.yml\"))"
   ]
  },
  {
   "cell_type": "code",
   "execution_count": 82,
   "metadata": {},
   "outputs": [],
   "source": [
    "models = [1,2]\n",
    "lists = [[] for _ in models]"
   ]
  },
  {
   "cell_type": "code",
   "execution_count": 86,
   "metadata": {},
   "outputs": [],
   "source": [
    "lists[0].append(5)"
   ]
  },
  {
   "cell_type": "code",
   "execution_count": 87,
   "metadata": {},
   "outputs": [
    {
     "data": {
      "text/plain": [
       "[[5, 5], []]"
      ]
     },
     "execution_count": 87,
     "metadata": {},
     "output_type": "execute_result"
    }
   ],
   "source": [
    "lists"
   ]
  },
  {
   "cell_type": "code",
   "execution_count": 88,
   "metadata": {},
   "outputs": [],
   "source": [
    "b = lists"
   ]
  },
  {
   "cell_type": "code",
   "execution_count": 89,
   "metadata": {},
   "outputs": [],
   "source": [
    "b[1].append(10)"
   ]
  },
  {
   "cell_type": "code",
   "execution_count": 93,
   "metadata": {},
   "outputs": [
    {
     "data": {
      "text/plain": [
       "[[], [], [], [], []]"
      ]
     },
     "execution_count": 93,
     "metadata": {},
     "output_type": "execute_result"
    }
   ],
   "source": [
    "[[]]*5"
   ]
  },
  {
   "cell_type": "code",
   "execution_count": 90,
   "metadata": {},
   "outputs": [
    {
     "data": {
      "text/plain": [
       "[[5, 5], [10]]"
      ]
     },
     "execution_count": 90,
     "metadata": {},
     "output_type": "execute_result"
    }
   ],
   "source": [
    "lists"
   ]
  },
  {
   "cell_type": "code",
   "execution_count": 72,
   "metadata": {},
   "outputs": [
    {
     "name": "stdout",
     "output_type": "stream",
     "text": [
      "Config: {'models': 'both', 'use_saved_models': True, 'saved_models': ['lupi_varying_drag', 'nopi_varying_drag'], 'use_saved_data': True, 'saved_train': 'varying_drag_train', 'saved_val': 'varying_drag_validation', 'saved_eval': 'varying_drag_evaluation'}\n"
     ]
    }
   ],
   "source": [
    "print(f'Config: {config}')"
   ]
  },
  {
   "cell_type": "code",
   "execution_count": 73,
   "metadata": {},
   "outputs": [
    {
     "data": {
      "text/plain": [
       "['lupi_varying_drag', 'nopi_varying_drag']"
      ]
     },
     "execution_count": 73,
     "metadata": {},
     "output_type": "execute_result"
    }
   ],
   "source": [
    "config['saved_models']"
   ]
  },
  {
   "cell_type": "code",
   "execution_count": 74,
   "metadata": {},
   "outputs": [],
   "source": [
    "from modules import obs_encoder, pi_encoder, r_aggregator, r_to_z, z_to_L0, conditional_ODE_func, decoder\n",
    "from models import LUPI_NDP, NDP\n",
    "models = [torch.load('../data/saved_models/'+model) for model in config['saved_models']]"
   ]
  },
  {
   "cell_type": "code",
   "execution_count": 81,
   "metadata": {},
   "outputs": [
    {
     "name": "stdout",
     "output_type": "stream",
     "text": [
      "1\n"
     ]
    }
   ],
   "source": [
    "if config['use_saved_models']:\n",
    "    print(1)"
   ]
  },
  {
   "cell_type": "code",
   "execution_count": 80,
   "metadata": {},
   "outputs": [],
   "source": [
    "from torch.utils.data import DataLoader\n",
    "train_set = torch.load('../data/datasets/'+config['saved_train'])\n",
    "train_loader = DataLoader(train_set, batch_size=1)"
   ]
  },
  {
   "cell_type": "code",
   "execution_count": 14,
   "metadata": {},
   "outputs": [
    {
     "name": "stdout",
     "output_type": "stream",
     "text": [
      "Evaluation data generation...\n",
      "Fixed paramters {'m1': 1.0, 'm2': 1.0, 'x1': 1.0, 'x2': -1.0, 'v1': 0, 'v2': 0, 'k': 0.5}\n",
      "Varying parameters {'c': [0.5, 2.0]}\n"
     ]
    }
   ],
   "source": [
    "eval_set = OscillatorsGenerator(config, train=False)"
   ]
  },
  {
   "cell_type": "code",
   "execution_count": 94,
   "metadata": {},
   "outputs": [],
   "source": [
    "eval_loader = DataLoader(eval_set)"
   ]
  },
  {
   "cell_type": "code",
   "execution_count": 96,
   "metadata": {},
   "outputs": [],
   "source": [
    "for _ in eval_loader:\n",
    "    1"
   ]
  },
  {
   "cell_type": "code",
   "execution_count": 99,
   "metadata": {},
   "outputs": [],
   "source": [
    "a,b,c = False,False,False"
   ]
  },
  {
   "cell_type": "code",
   "execution_count": 103,
   "metadata": {},
   "outputs": [],
   "source": [
    "a = True"
   ]
  },
  {
   "cell_type": "code",
   "execution_count": 104,
   "metadata": {},
   "outputs": [],
   "source": [
    "if not(a or b or c):\n",
    "    print(1)"
   ]
  },
  {
   "cell_type": "code",
   "execution_count": 36,
   "metadata": {},
   "outputs": [],
   "source": [
    "config = {\n",
    "    # data stuff\n",
    "    'train_examples' : 500,\n",
    "    'train_val_split' : 0.8,\n",
    "    'eval_examples' : 500,\n",
    "    'simulator' : {\n",
    "        'dt' : 0.01,\n",
    "        'sampling_freq' : 20,\n",
    "        'samples' : 50\n",
    "    },\n",
    "    'fixed' : {\n",
    "        'a' : 2/3,\n",
    "        'b' : 4/3,\n",
    "        'c' : 1,\n",
    "        'd' : 1,\n",
    "    },\n",
    "    'varying' : {\n",
    "        'u1' : [0.2, 1.],\n",
    "        'v1' : [0.1, 0.5]\n",
    "    },\n",
    "    'eval_varying' : {\n",
    "        'u1' : [0.2, 1.],\n",
    "        'v1' : [0.1, 0.5]\n",
    "    },\n",
    "}"
   ]
  },
  {
   "cell_type": "code",
   "execution_count": 37,
   "metadata": {},
   "outputs": [
    {
     "name": "stdout",
     "output_type": "stream",
     "text": [
      "Training data generation...\n",
      "Fixed paramters {'a': 0.6666666666666666, 'b': 1.3333333333333333, 'c': 1, 'd': 1}\n",
      "Varying parameters {'u1': [0.2, 1.0], 'v1': [0.1, 0.5]}\n",
      "Evaluation data generation...\n",
      "Fixed paramters {'a': 0.6666666666666666, 'b': 1.3333333333333333, 'c': 1, 'd': 1}\n",
      "Varying parameters {'u1': [0.2, 1.0], 'v1': [0.1, 0.5]}\n"
     ]
    }
   ],
   "source": [
    "train_val_set = LotkaVolterraGenerator(config)\n",
    "train_set = train_val_set[:int(config['train_examples']*config['train_val_split'])]\n",
    "val_set = train_val_set[int(config['train_examples']*config['train_val_split']):]\n",
    "eval_set = LotkaVolterraGenerator(config, train=False)"
   ]
  },
  {
   "cell_type": "code",
   "execution_count": 38,
   "metadata": {},
   "outputs": [],
   "source": [
    "torch.save(train_set, 'lotka_volterra_train')\n",
    "torch.save(val_set, 'lotka_volterra_validation')\n",
    "torch.save(eval_set, 'lotka_volterra_evaluation')"
   ]
  },
  {
   "cell_type": "code",
   "execution_count": 26,
   "metadata": {},
   "outputs": [],
   "source": [
    "vs = torch.load('vs_eval_set')"
   ]
  },
  {
   "cell_type": "code",
   "execution_count": 53,
   "metadata": {},
   "outputs": [
    {
     "data": {
      "text/plain": [
       "{'model': 'nopi',\n",
       " 'train_examples': 500,\n",
       " 'train_val_split': 0.8,\n",
       " 'eval_examples': 100,\n",
       " 'simulator': {'dt': 0.01, 'sampling_freq': 20, 'samples': 50},\n",
       " 'fixed': {'a': 0.6666666666666666, 'b': 1.3333333333333333, 'c': 1, 'd': 1},\n",
       " 'varying': {'amp': [-1, 1], 'shift': [-0.5, 0.5]},\n",
       " 'eval_varying': {'amp': [1, 1.1], 'shift': [0.5, 0.6]},\n",
       " 'x_dim': 1,\n",
       " 'obs_enc_h_dim': 16,\n",
       " 'r_dim': 16,\n",
       " 'pi_dim': 2,\n",
       " 'pi_enc_h_dim': 16,\n",
       " 'pi_r_dim': 16,\n",
       " 'aggregators': ['logsumexp', 'mean'],\n",
       " 'agg_h_dim': 16,\n",
       " 'r_to_z_h_dim': 16,\n",
       " 'z_dim': 16,\n",
       " 'z_to_L_h_dim': 16,\n",
       " 'L_dim': 16,\n",
       " 'ode_h_dim': 16,\n",
       " 'dec_h_dim': 16,\n",
       " 'lr': 0.001,\n",
       " 'epochs': 100,\n",
       " 'val_and_print': 10,\n",
       " 'context_range': [5, 10],\n",
       " 'target_range': [15, 51],\n",
       " 'save_model': True}"
      ]
     },
     "execution_count": 53,
     "metadata": {},
     "output_type": "execute_result"
    }
   ],
   "source": [
    "save = 'nopi-exp-2021-02-19-1402'\n",
    "pickle.load(open('../notebooks/saves/'+save+'-config.p', 'rb'))"
   ]
  },
  {
   "cell_type": "code",
   "execution_count": null,
   "metadata": {},
   "outputs": [],
   "source": []
  }
 ],
 "metadata": {
  "kernelspec": {
   "display_name": "lupi",
   "language": "python",
   "name": "lupi"
  },
  "language_info": {
   "codemirror_mode": {
    "name": "ipython",
    "version": 3
   },
   "file_extension": ".py",
   "mimetype": "text/x-python",
   "name": "python",
   "nbconvert_exporter": "python",
   "pygments_lexer": "ipython3",
   "version": "3.8.5"
  }
 },
 "nbformat": 4,
 "nbformat_minor": 4
}
