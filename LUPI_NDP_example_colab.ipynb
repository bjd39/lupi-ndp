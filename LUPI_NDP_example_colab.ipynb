{
  "nbformat": 4,
  "nbformat_minor": 0,
  "metadata": {
    "colab": {
      "name": "LUPI-NDP example colab.ipynb",
      "provenance": [],
      "collapsed_sections": [],
      "authorship_tag": "ABX9TyMRNUvQhRVtMAG4dZvxgzCx",
      "include_colab_link": true
    },
    "kernelspec": {
      "name": "python3",
      "display_name": "Python 3"
    },
    "language_info": {
      "name": "python"
    },
    "accelerator": "GPU"
  },
  "cells": [
    {
      "cell_type": "markdown",
      "metadata": {
        "id": "view-in-github",
        "colab_type": "text"
      },
      "source": [
        "<a href=\"https://colab.research.google.com/github/bjd39/lupi-ndp/blob/main/LUPI_NDP_example_colab.ipynb\" target=\"_parent\"><img src=\"https://colab.research.google.com/assets/colab-badge.svg\" alt=\"Open In Colab\"/></a>"
      ]
    },
    {
      "cell_type": "code",
      "metadata": {
        "colab": {
          "base_uri": "https://localhost:8080/"
        },
        "id": "uliTGUUrDelc",
        "outputId": "c12d8561-5a4e-41fb-f6b1-4e2acb571414"
      },
      "source": [
        "!pip install torchdiffeq"
      ],
      "execution_count": 1,
      "outputs": [
        {
          "output_type": "stream",
          "text": [
            "Collecting torchdiffeq\n",
            "  Downloading https://files.pythonhosted.org/packages/a2/47/4765cdc75ba37fffc286bce1f45adb56b577c7e8658f3c748a73642bd076/torchdiffeq-0.2.2-py3-none-any.whl\n",
            "Requirement already satisfied: torch>=1.3.0 in /usr/local/lib/python3.7/dist-packages (from torchdiffeq) (1.9.0+cu102)\n",
            "Requirement already satisfied: scipy>=1.4.0 in /usr/local/lib/python3.7/dist-packages (from torchdiffeq) (1.4.1)\n",
            "Requirement already satisfied: typing-extensions in /usr/local/lib/python3.7/dist-packages (from torch>=1.3.0->torchdiffeq) (3.7.4.3)\n",
            "Requirement already satisfied: numpy>=1.13.3 in /usr/local/lib/python3.7/dist-packages (from scipy>=1.4.0->torchdiffeq) (1.19.5)\n",
            "Installing collected packages: torchdiffeq\n",
            "Successfully installed torchdiffeq-0.2.2\n"
          ],
          "name": "stdout"
        }
      ]
    },
    {
      "cell_type": "code",
      "metadata": {
        "id": "I0kP-qg7DuJp"
      },
      "source": [
        "import torch\n",
        "import torch.nn.functional as F\n",
        "from torch import nn\n",
        "from torch.distributions import Normal\n",
        "from torch.distributions.kl import kl_divergence\n",
        "from torch.utils.data import Dataset, DataLoader\n",
        "\n",
        "from torchdiffeq import odeint\n",
        "\n",
        "import numpy as np\n",
        "import random\n",
        "import copy\n",
        "\n",
        "import matplotlib.pyplot as plt\n",
        "from matplotlib.lines import Line2D"
      ],
      "execution_count": 2,
      "outputs": []
    },
    {
      "cell_type": "code",
      "metadata": {
        "colab": {
          "base_uri": "https://localhost:8080/"
        },
        "id": "O0wV9DPVDyu7",
        "outputId": "22f1e338-068a-46e7-b720-5218f4d0b12f"
      },
      "source": [
        "if torch.cuda.is_available():\n",
        "    device = torch.device('cuda')\n",
        "    !nvidia-smi\n",
        "else:\n",
        "    device = torch.device('cpu')\n",
        "    print(f'GPU not attached to session, using device := {device}')"
      ],
      "execution_count": 3,
      "outputs": [
        {
          "output_type": "stream",
          "text": [
            "Thu Jun 24 09:29:42 2021       \n",
            "+-----------------------------------------------------------------------------+\n",
            "| NVIDIA-SMI 465.27       Driver Version: 460.32.03    CUDA Version: 11.2     |\n",
            "|-------------------------------+----------------------+----------------------+\n",
            "| GPU  Name        Persistence-M| Bus-Id        Disp.A | Volatile Uncorr. ECC |\n",
            "| Fan  Temp  Perf  Pwr:Usage/Cap|         Memory-Usage | GPU-Util  Compute M. |\n",
            "|                               |                      |               MIG M. |\n",
            "|===============================+======================+======================|\n",
            "|   0  Tesla T4            Off  | 00000000:00:04.0 Off |                    0 |\n",
            "| N/A   65C    P8    11W /  70W |      3MiB / 15109MiB |      0%      Default |\n",
            "|                               |                      |                  N/A |\n",
            "+-------------------------------+----------------------+----------------------+\n",
            "                                                                               \n",
            "+-----------------------------------------------------------------------------+\n",
            "| Processes:                                                                  |\n",
            "|  GPU   GI   CI        PID   Type   Process name                  GPU Memory |\n",
            "|        ID   ID                                                   Usage      |\n",
            "|=============================================================================|\n",
            "|  No running processes found                                                 |\n",
            "+-----------------------------------------------------------------------------+\n"
          ],
          "name": "stdout"
        }
      ]
    },
    {
      "cell_type": "markdown",
      "metadata": {
        "id": "rso45JrgEq6L"
      },
      "source": [
        "### Dampled coupled oscillators\n",
        "The `OscillatorsDataset` produces trajectory samples from a system of damped coupled oscillators. A pair of point masses are connected by springs between opposing walls in the chain: wall-spring-mass-spring-mass-spring-wall.\n",
        "\n",
        "`|--o--o--|`\n",
        "\n",
        "The equations of motion are\n",
        "\n",
        "$$\n",
        "m_1\\ddot{x_1} = k\\cdot(x_2 - 2x_1) - c\\dot{x_1} \\\\\n",
        "m_2\\ddot{x_2} = k\\cdot(x_1 - 2x_2) - c\\dot{x_2}\n",
        "$$\n",
        "\n",
        "where $m_i$ is the mass of the $i$-th mass, $x_i$ is the displacement of the $i$-th mass from the equilibrium position, $k$ is the spring constant, $c$ is the drag constant, and dots indicate time-derivatives."
      ]
    },
    {
      "cell_type": "code",
      "metadata": {
        "id": "DN2R5bGSEZk_"
      },
      "source": [
        "class OscillatorsDataset(Dataset):\n",
        "    \"\"\"\n",
        "    Dampled Coupled Oscillators synthetic dataset.\n",
        "    \n",
        "    Produces data for the system\n",
        "    \n",
        "    |-spring-mass-spring-mass-spring-| w/ 'air' resistance\n",
        "    \n",
        "    where | are walls (i.e. immovable boundaries), described by\n",
        "    \n",
        "    f_i = k*(x_j - 2*x_i) - c*v_i\n",
        "    \n",
        "    for force f, displacements x, and velocity v, using Euler integration.\n",
        "    \n",
        "    Parameters\n",
        "        n       : int, number of samples\n",
        "        dt      : float, time step\n",
        "        freq    : int, how frequently to sample (multiple of dt)\n",
        "        samples : int, how many samples to take (multiples of freq)\n",
        "                  (an extra sample is include for t=0)\n",
        "    (possible) sampling parameters\n",
        "        m1,m2   : masses\n",
        "        x1,x2   : initial positions\n",
        "        v1,v2   : initial velocities\n",
        "        k       : (ideal) spring constant\n",
        "        c       : 'air' resistance constant\n",
        "    If a float is provided for a sampling parameter, it is fixed at that value;\n",
        "    if a list is provided, it will be uniformly sampled from the range.\n",
        "\n",
        "    The time step, freq and samples default to\n",
        "        dt      : 0.01\n",
        "        freq    : 10\n",
        "        samples : 10\n",
        "    n defaults to 1.\n",
        "    \n",
        "    The 'inputs' are the sampled parameters, i.e. if only the initial\n",
        "    positions are left unspecified and the 'outputs' are the positions\n",
        "    over time (x1(t),x2(t)).\n",
        "    \n",
        "    Output times are normalised to run 0 to 1, such that the first sample\n",
        "    is always at time = 0 and the final is always at time = 1.\n",
        "    \"\"\"\n",
        "    \n",
        "    def __init__(self, config, train=True, verbose=True):\n",
        "\n",
        "        # from config\n",
        "        #   base simulator setup\n",
        "        self.dt = config['simulator']['dt']\n",
        "        self.freq = config['simulator']['sampling_freq']\n",
        "        self.samples = config['simulator']['samples']\n",
        "        #   system parameter dictionaries\n",
        "        self.fixed = config['fixed']\n",
        "        if train:\n",
        "            self.varying = config['varying']\n",
        "            self.n = config['train_examples']\n",
        "        else:\n",
        "            self.varying = config['eval_varying']\n",
        "            self.n = config['eval_examples']\n",
        "        \n",
        "        # + 1 for the extra sample at t = 0\n",
        "        self.total_steps = self.freq*self.samples + 1\n",
        "        # normalised times\n",
        "        self.times = torch.arange(0,self.samples+1,1)/(1.*self.samples)\n",
        "        \n",
        "        if verbose:\n",
        "            if train:\n",
        "                print('Training data generation...')\n",
        "            else:\n",
        "                print('Evaluation data generation...')\n",
        "            print('Fixed paramters', self.fixed)\n",
        "            print('Varying parameters', self.varying)\n",
        "        \n",
        "        self.data = []\n",
        "        # generate data\n",
        "        for _ in range(self.n):\n",
        "            description, conditions = self.description_and_conditions()\n",
        "            output = self.single_run(conditions)\n",
        "            self.data.append((description, output, self.times))\n",
        "        \n",
        "    def __getitem__(self, index):\n",
        "        return self.data[index]\n",
        "    \n",
        "    def __len__(self):\n",
        "        return self.n\n",
        "    \n",
        "    def description_and_conditions(self):\n",
        "        \"\"\"\n",
        "        Return a sample of initial conditions, with those specified at\n",
        "        input being fixed and the unspecified being the description, too.\n",
        "        \"\"\"\n",
        "        \n",
        "        conditions = copy.deepcopy(self.fixed)\n",
        "        for key in self.varying:\n",
        "            if key in conditions:\n",
        "                warnings.warn('System parameter defined in both fixed and varying configs')\n",
        "            low = min(self.varying[key])\n",
        "            high = max(self.varying[key])\n",
        "            conditions[key] = np.random.uniform(low,high)\n",
        "        \n",
        "        # the description is the varying part\n",
        "        description = [conditions[v] for v in self.varying]\n",
        "        \n",
        "        return torch.FloatTensor(description), conditions\n",
        "    \n",
        "    def single_run(self, conditions):\n",
        "        x1, x2 = conditions['x1'], conditions['x2']\n",
        "        v1, v2 = conditions['v1'], conditions['v2']\n",
        "        m1, m2 = conditions['m1'], conditions['m2']\n",
        "        c, k = conditions['c'], conditions['k']\n",
        "        output = []\n",
        "        for step in range(self.total_steps):\n",
        "            if step % self.freq == 0:\n",
        "                output.append([x1,x2])\n",
        "            \n",
        "            a1 = k*(x2-2*x1) - c*v1\n",
        "            a2 = k*(x1-2*x2) - c*v2\n",
        "            \n",
        "            x1 += self.dt*v1\n",
        "            x2 += self.dt*v2\n",
        "            v1 += self.dt*a1\n",
        "            v2 += self.dt*a2\n",
        "    \n",
        "        return torch.FloatTensor(output)"
      ],
      "execution_count": 4,
      "outputs": []
    },
    {
      "cell_type": "markdown",
      "metadata": {
        "id": "1asGmWqsFB6d"
      },
      "source": [
        "A distribution over dynamics can be generated by varying the initial conditions, i.e. $x_i(0), \\dot{x_i}(0)$, and/or the masses $m_i$, spring stiffness $k$, or drag coefficient $c$.\n",
        "\n",
        "The trajectories are sampled according to the parameters `dt`, `freq` and `samples`: `dt` is the unit time for the underlying simulator which uses Euler integration; `freq` sets how many steps (in `dt`) are skipped between samples; `samples` sets how many samples to take total (with an extra sample taken at `t=0`.) For example, with\n",
        "\n",
        "```\n",
        "dt = 0.001\n",
        "freq = 100\n",
        "samples = 20\n",
        "```\n",
        "\n",
        "the simulator takes steps of `0.001`, the time between samples is `dt*freq = 0.1` and there are 20 samples total (`0, 0.1, 0.2, ..., 2.0`). The times are then normalised to always run from 0 to 1, so these settings will result in samples being taken at (`0, 0.05, 0.1, 0.15, ..., 1.0`).\n",
        "\n",
        "**For example**, this plot shows trajectories sampled by varying the spring stiffness."
      ]
    },
    {
      "cell_type": "code",
      "metadata": {
        "colab": {
          "base_uri": "https://localhost:8080/",
          "height": 349
        },
        "id": "4666Q9BzGJ9p",
        "outputId": "6337aa9f-3376-472d-ac81-2d07b5f9fb28"
      },
      "source": [
        "data_config = {\n",
        "    'train_examples' : 500,\n",
        "    'train_val_split' : 0.8,\n",
        "    'eval_examples' : 100,\n",
        "    'simulator' : {\n",
        "        'dt' : 0.01,\n",
        "        'sampling_freq' : 5,\n",
        "        'samples' : 200\n",
        "    },\n",
        "    'fixed' : {\n",
        "        'm1' : 1,\n",
        "        'm2' : 1,\n",
        "        'x1' : 1,\n",
        "        'x2' : -1,\n",
        "        'v1' : 0,\n",
        "        'v2' : 0,\n",
        "        'c' : 1\n",
        "    },\n",
        "    'varying' : {\n",
        "        'k' : [0.2, 1.]\n",
        "    },\n",
        "    'eval_varying' : {\n",
        "        'k' : [0.2, 1.]\n",
        "    }\n",
        "}\n",
        "\n",
        "# generate a dataset\n",
        "example_set = OscillatorsDataset(data_config)\n",
        "example_loader = DataLoader(example_set, batch_size=1)\n",
        "\n",
        "# sanity plot\n",
        "for inputs, labels, times in example_loader:\n",
        "    plt.plot(times[0], labels[0,:,0], alpha=0.03, c='r')\n",
        "    plt.plot(times[0], labels[0,:,1], alpha=0.03, c='b')\n",
        "plt.title('Oscillator dataset example with varying stiffness')\n",
        "custom_lines = [Line2D([0], [0], color='r', lw=2),\n",
        "                Line2D([0], [0], color='b', lw=2)]\n",
        "plt.legend(custom_lines, ['$x_1$', '$x_2$'])\n",
        "plt.yticks([-1,0,1])\n",
        "plt.xticks([0,1])\n",
        "plt.xlabel('Normalised time, $t$')\n",
        "plt.ylabel('Displacement, $x$')\n",
        "plt.show()"
      ],
      "execution_count": 5,
      "outputs": [
        {
          "output_type": "stream",
          "text": [
            "Training data generation...\n",
            "Fixed paramters {'m1': 1, 'm2': 1, 'x1': 1, 'x2': -1, 'v1': 0, 'v2': 0, 'c': 1}\n",
            "Varying parameters {'k': [0.2, 1.0]}\n"
          ],
          "name": "stdout"
        },
        {
          "output_type": "display_data",
          "data": {
            "image/png": "[encoded data removed]",
            "text/plain": [
              "<Figure size 432x288 with 1 Axes>"
            ]
          },
          "metadata": {
            "tags": [],
            "needs_background": "light"
          }
        }
      ]
    },
    {
      "cell_type": "markdown",
      "metadata": {
        "id": "hmrPGm7vQaPL"
      },
      "source": [
        "# Models"
      ]
    },
    {
      "cell_type": "markdown",
      "metadata": {
        "id": "ET3SlPFVPFmy"
      },
      "source": [
        "## Model components\n",
        "The LUPI-NDP and NDP are built from the same modules. The only difference is during training where the LUPI model uses privileged information in the forward pass (enabled with a residual connection.)"
      ]
    },
    {
      "cell_type": "code",
      "metadata": {
        "id": "bfhTCdKYGgxG"
      },
      "source": [
        "class obs_encoder(nn.Module):\n",
        "    \"\"\"\n",
        "    Takes raw observations (x_i, t_i) and produces a representation r_i.\n",
        "    \"\"\"\n",
        "    \n",
        "    def __init__(self,config):\n",
        "        super(obs_encoder, self).__init__()\n",
        "        \n",
        "        obs_dim = config['x_dim']\n",
        "        h_dim = config['obs_enc_h_dim']\n",
        "        r_dim = config['r_dim']\n",
        "        \n",
        "        layers = [\n",
        "            nn.Linear(obs_dim+1,h_dim),\n",
        "            nn.ReLU(),\n",
        "            nn.Linear(h_dim,h_dim),\n",
        "            nn.ReLU(),\n",
        "            nn.Linear(h_dim,r_dim)\n",
        "        ]\n",
        "        \n",
        "        self.layers = torch.nn.Sequential(*layers)\n",
        "    \n",
        "    def forward(self, observations, times):\n",
        "        return self.layers(torch.cat([observations, times.unsqueeze(-1)],-1))\n",
        "\n",
        "class pi_encoder(nn.Module):\n",
        "    \"\"\"\n",
        "    Takes the privileged information signal and produces a representation r_p.\n",
        "    \"\"\"\n",
        "    def __init__(self, config):\n",
        "        super(pi_encoder, self).__init__()\n",
        "        \n",
        "        pi_dim = config['pi_dim']\n",
        "        h_dim = config['pi_enc_h_dim']\n",
        "        r_dim = config['pi_r_dim']\n",
        "        \n",
        "        layers = [\n",
        "            nn.Linear(pi_dim,h_dim),\n",
        "            nn.ReLU(),\n",
        "            nn.Linear(h_dim,h_dim),\n",
        "            nn.ReLU(),\n",
        "            nn.Linear(h_dim,r_dim)\n",
        "        ]\n",
        "        \n",
        "        self.layers = torch.nn.Sequential(*layers)\n",
        "    \n",
        "    def forward(self, x):\n",
        "        return self.layers(x)\n",
        "\n",
        "class r_aggregator(nn.Module):\n",
        "    \"\"\"\n",
        "    Takes mixed representations from observations and privileged information and\n",
        "    produces a single task representation.\n",
        "    \n",
        "    In evaluation mode privileged information should not be used and a warning will\n",
        "    given if this is attempted.\n",
        "    \"\"\"\n",
        "    def __init__(self, config):\n",
        "        super(r_aggregator, self).__init__()\n",
        "        \n",
        "        obs_r_dim = config['r_dim']\n",
        "        pi_r_dim = config['pi_r_dim']\n",
        "        h_dim = config['agg_h_dim']\n",
        "        \n",
        "        self.aggregators = config['aggregators']\n",
        "        \n",
        "        for agg in self.aggregators:\n",
        "            if agg not in ['mean','max','min','logsumexp']:\n",
        "                raise ValueError(f'Aggregator {agg} is not supported.')\n",
        "        \n",
        "        # when using privileged information we combine the representations with a small ResNet\n",
        "        layers = [\n",
        "            nn.Linear(obs_r_dim*len(self.aggregators)+pi_r_dim,h_dim),\n",
        "            nn.ReLU(),\n",
        "            nn.Linear(h_dim,h_dim),\n",
        "            nn.ReLU(),\n",
        "            nn.Linear(h_dim,obs_r_dim*len(self.aggregators))\n",
        "        ]\n",
        "        \n",
        "        self.layers = torch.nn.Sequential(*layers)\n",
        "        \n",
        "    def aggregate(self, obs_r):\n",
        "        # concatentate the aggregator outputs\n",
        "        agg = []\n",
        "        if 'max' in self.aggregators:\n",
        "            agg.append(torch.max(obs_r,0).values)\n",
        "        if 'min' in self.aggregators:\n",
        "            agg.append(torch.min(obs_r,0).values)\n",
        "        if 'logsumexp' in self.aggregators:\n",
        "            agg.append(torch.logsumexp(obs_r,0))\n",
        "        if 'mean' in self.aggregators:\n",
        "            agg.append(torch.mean(obs_r,0))\n",
        "        \n",
        "        return torch.cat(agg, 0)\n",
        "        \n",
        "    def forward(self, r_i, r_p=None):\n",
        "        if not self.training and r_p is not None:\n",
        "            warnings.warn('Privileged information provided to the aggregator in evaluation mode.')\n",
        "        \n",
        "        # aggregate observations\n",
        "        r_obs = self.aggregate(r_i)\n",
        "        \n",
        "        # if we have privileged information, use the resnet\n",
        "        # r_obs' = r_obs + f(r_obs, r_p)\n",
        "        if r_p is not None:\n",
        "            r_obs = r_obs + self.layers(torch.cat([r_obs, r_p], -1))\n",
        "        \n",
        "        return r_obs\n",
        "\n",
        "class r_to_z(nn.Module):\n",
        "    \"\"\"\n",
        "    From task representation to global latent variable.\n",
        "    \"\"\"\n",
        "    def __init__(self, config):\n",
        "        super(r_to_z, self).__init__()\n",
        "        \n",
        "        aggregated_r_dim = config['r_dim'] * len(config['aggregators'])\n",
        "        h_dim = config['r_to_z_h_dim']\n",
        "        z_dim = config['z_dim']\n",
        "        \n",
        "        layers = [\n",
        "            nn.Linear(aggregated_r_dim,h_dim),\n",
        "            nn.ReLU(),\n",
        "            nn.Linear(h_dim,h_dim),\n",
        "            nn.ReLU()\n",
        "        ]\n",
        "        \n",
        "        self.layers = torch.nn.Sequential(*layers)\n",
        "        \n",
        "        self.h_to_mu = torch.nn.Linear(h_dim, z_dim)\n",
        "        self.h_to_sigma = torch.nn.Linear(h_dim, z_dim)\n",
        "        \n",
        "    def forward(self, r):\n",
        "        h = self.layers(r)\n",
        "        mu = self.h_to_mu(h)\n",
        "        sigma = 0.1 + 0.9*torch.sigmoid(self.h_to_sigma(h))\n",
        "        \n",
        "        return Normal(mu, sigma)\n",
        "\n",
        "class z_to_L0(nn.Module):\n",
        "    \"\"\"\n",
        "    Use a sample from the global latent variable to produce the initial L value.\n",
        "    \"\"\"\n",
        "    def __init__(self,config):\n",
        "        super(z_to_L0, self).__init__()\n",
        "        \n",
        "        L_dim = config['L_dim']\n",
        "        z_dim = config['z_dim']\n",
        "        h_dim = config['z_to_L_h_dim']\n",
        "        \n",
        "        layers = [\n",
        "            nn.Linear(z_dim,h_dim),\n",
        "            nn.ReLU(),\n",
        "            nn.Linear(h_dim,h_dim),\n",
        "            nn.ReLU(),\n",
        "            nn.Linear(h_dim,L_dim)\n",
        "        ]\n",
        "        \n",
        "        self.layers = torch.nn.Sequential(*layers)\n",
        "        \n",
        "    def forward(self, z_sample):\n",
        "        return self.layers(z_sample)\n",
        "\n",
        "class conditional_ODE_func(nn.Module):\n",
        "    \"\"\"\n",
        "    Conditional derivative function.\n",
        "    \n",
        "    Input is a concatentation of the ODE latent state and the global latent variable sample,\n",
        "    and the time\n",
        "        (L || z, t)\n",
        "    Output is the derivative at that time\n",
        "        (dL || dz)\n",
        "    with dz set to 0.\n",
        "    \n",
        "    This is a 'hacky' way to condition the ODE without letting the sample varying.\n",
        "    \"\"\"\n",
        "    \n",
        "    def __init__(self,config):\n",
        "        super(conditional_ODE_func, self).__init__()\n",
        "        \n",
        "        L_dim = config['L_dim']\n",
        "        z_dim = config['z_dim']\n",
        "        h_dim = config['ode_h_dim']\n",
        "        \n",
        "        layers = [\n",
        "            torch.nn.Linear(L_dim+z_dim+1,h_dim),\n",
        "            torch.nn.Softplus(),\n",
        "            torch.nn.Linear(h_dim,h_dim),\n",
        "            torch.nn.Softplus(),\n",
        "            torch.nn.Linear(h_dim,L_dim)\n",
        "        ]\n",
        "        \n",
        "        self.latent_func = torch.nn.Sequential(*layers)\n",
        "        \n",
        "        self.L_dim = L_dim\n",
        "        \n",
        "        self.nfe = 0\n",
        "    \n",
        "    def forward(self, t, L_z):\n",
        "        self.nfe += 1\n",
        "        z = L_z[self.L_dim:]\n",
        "        L_z_t = torch.cat([L_z,t.unsqueeze(-1)])\n",
        "        dL = self.latent_func(L_z_t)\n",
        "        dz = torch.zeros_like(z)\n",
        "        \n",
        "        return torch.cat([dL,dz])\n",
        "\n",
        "class decoder(nn.Module):\n",
        "    \"\"\"\n",
        "    Produce an output from the ODE latent state and the global latent variable sample.\n",
        "    \"\"\"\n",
        "    def __init__(self, config):\n",
        "        super(decoder, self).__init__()\n",
        "        \n",
        "        L_dim = config['L_dim']\n",
        "        z_dim = config['z_dim']\n",
        "        h_dim = config['dec_h_dim']\n",
        "        out_dim = config['x_dim']\n",
        "        \n",
        "        layers = [\n",
        "            torch.nn.Linear(L_dim+z_dim,h_dim),\n",
        "            torch.nn.ReLU(),\n",
        "            torch.nn.Linear(h_dim,h_dim),\n",
        "            torch.nn.ReLU()\n",
        "        ]\n",
        "        \n",
        "        self.shared_layers = torch.nn.Sequential(*layers)\n",
        "        \n",
        "        self.hidden_to_mu = torch.nn.Linear(h_dim, out_dim)\n",
        "        self.hidden_to_sigma = torch.nn.Linear(h_dim, out_dim)\n",
        "        \n",
        "    def forward(self, L_z_t):\n",
        "        \n",
        "        hidden = self.shared_layers(L_z_t)\n",
        "        mu = self.hidden_to_mu(hidden)\n",
        "        sigma = 0.1 + 0.9*F.softplus(self.hidden_to_sigma(hidden))\n",
        "        return Normal(mu, sigma)"
      ],
      "execution_count": 6,
      "outputs": []
    },
    {
      "cell_type": "markdown",
      "metadata": {
        "id": "Uwy6z8Z8P6P0"
      },
      "source": [
        "## Architectures\n",
        "The modules are combined into full models: `LUPI_NDP` and `NDP`."
      ]
    },
    {
      "cell_type": "code",
      "metadata": {
        "id": "bXm8v2f8PwMZ"
      },
      "source": [
        "class LUPI_NDP(nn.Module):\n",
        "    \n",
        "    def __init__(self, config):\n",
        "\n",
        "        super(LUPI_NDP, self).__init__()\n",
        "        \n",
        "        self.observations_encoder = obs_encoder(config)\n",
        "        self.privileged_info_encoder = pi_encoder(config)\n",
        "        self.representation_aggregator = r_aggregator(config)\n",
        "        self.representation_to_global_latent = r_to_z(config)\n",
        "        self.global_latent_to_initial_value = z_to_L0(config)\n",
        "        self.odefunc = conditional_ODE_func(config)\n",
        "        self.decoder = decoder(config)\n",
        "        \n",
        "    def forward(self, observations, times, p_info, context_idx, target_idx):\n",
        "        if self.training:\n",
        "            # encode\n",
        "            r_i = self.observations_encoder(observations, times)\n",
        "            r_p = self.privileged_info_encoder(p_info)\n",
        "            # aggregate\n",
        "            r_C = self.representation_aggregator(r_i[context_idx],None)\n",
        "            r_T = self.representation_aggregator(r_i[target_idx],r_p)\n",
        "            # parametrise\n",
        "            z_C = self.representation_to_global_latent(r_C)\n",
        "            z_T = self.representation_to_global_latent(r_T)\n",
        "            # sample (from target Z during training)\n",
        "            z_ = z_T.rsample()\n",
        "            # initialise and evolve\n",
        "            L0 = self.global_latent_to_initial_value(z_)\n",
        "            L_z = torch.cat([L0,z_])\n",
        "            ################ this bit won't work with batching yet\n",
        "            L_z_t = odeint(self.odefunc, L_z, times[target_idx])\n",
        "            return z_C, z_T, self.decoder(L_z_t)\n",
        "        \n",
        "        else:\n",
        "            # encode\n",
        "            r_i = self.observations_encoder(observations[context_idx],\n",
        "                                            times[context_idx])\n",
        "            # aggregate\n",
        "            r_C = self.representation_aggregator(r_i,None)\n",
        "            # parametrise\n",
        "            z_C = self.representation_to_global_latent(r_C)\n",
        "            # sample (from context Z during eval.)\n",
        "            z_ = z_C.rsample()\n",
        "            # initialise and evolve\n",
        "            L0 = self.global_latent_to_initial_value(z_)\n",
        "            L_z = torch.cat([L0,z_])\n",
        "            ################ this bit won't work with batching yet\n",
        "            L_z_t = odeint(self.odefunc, L_z, times[target_idx].squeeze())\n",
        "            return self.decoder(L_z_t)\n",
        "\n",
        "class NDP(nn.Module):\n",
        "    \"\"\"\n",
        "    No privileged information NDP model built to sub in directly for the LUPI\n",
        "    model for the sake of experimental consistency. Primarily this means that\n",
        "    the forward pass takes a 'p_info' argument despite not using it.\n",
        "    \"\"\"\n",
        "    \n",
        "    def __init__(self, config):\n",
        "\n",
        "        super(NDP, self).__init__()\n",
        "        \n",
        "        self.observations_encoder = obs_encoder(config)\n",
        "        self.representation_aggregator = r_aggregator(config)\n",
        "        self.representation_to_global_latent = r_to_z(config)\n",
        "        self.global_latent_to_initial_value = z_to_L0(config)\n",
        "        self.odefunc = conditional_ODE_func(config)\n",
        "        self.decoder = decoder(config)\n",
        "        \n",
        "    def forward(self, observations, times, p_info, context_idx, target_idx):\n",
        "        if self.training:\n",
        "            # encode\n",
        "            r_i = self.observations_encoder(observations, times)\n",
        "            # aggregate (no PI so both aggregate without it)\n",
        "            r_C = self.representation_aggregator(r_i[context_idx],None)\n",
        "            r_T = self.representation_aggregator(r_i[target_idx],None)\n",
        "            # parametrise\n",
        "            z_C = self.representation_to_global_latent(r_C)\n",
        "            z_T = self.representation_to_global_latent(r_T)\n",
        "            # sample (from target Z during training)\n",
        "            z_ = z_T.rsample()\n",
        "            # initialise and evolve\n",
        "            L0 = self.global_latent_to_initial_value(z_)\n",
        "            L_z = torch.cat([L0,z_])\n",
        "            ################ this bit won't work with batching yet\n",
        "            L_z_t = odeint(self.odefunc, L_z, times[target_idx])\n",
        "            return z_C, z_T, self.decoder(L_z_t)\n",
        "        \n",
        "        else:\n",
        "            # encode\n",
        "            r_i = self.observations_encoder(observations[context_idx],\n",
        "                                            times[context_idx])\n",
        "            # aggregate\n",
        "            r_C = self.representation_aggregator(r_i,None)\n",
        "            # parametrise\n",
        "            z_C = self.representation_to_global_latent(r_C)\n",
        "            # sample (from context Z during eval.)\n",
        "            z_ = z_C.rsample()\n",
        "            # initialise and evolve\n",
        "            L0 = self.global_latent_to_initial_value(z_)\n",
        "            L_z = torch.cat([L0,z_])\n",
        "            ################ this bit won't work with batching yet\n",
        "            L_z_t = odeint(self.odefunc, L_z, times[target_idx].squeeze())\n",
        "            return self.decoder(L_z_t)"
      ],
      "execution_count": 7,
      "outputs": []
    },
    {
      "cell_type": "markdown",
      "metadata": {
        "id": "PnMcHV_DQlMB"
      },
      "source": [
        "# Training"
      ]
    },
    {
      "cell_type": "markdown",
      "metadata": {
        "id": "Ac4NdU97Tzqe"
      },
      "source": [
        "## `config`\n",
        "The model, dataset, training and evaluation are all defined from a config file."
      ]
    },
    {
      "cell_type": "code",
      "metadata": {
        "id": "_R-ioGp6Q28x"
      },
      "source": [
        "config = {\n",
        "    'model' : 'lupi', # lupi or nopi\n",
        "    # data stuff\n",
        "    'train_examples' : 500,\n",
        "    'train_val_split' : 0.8,\n",
        "    'eval_examples' : 100,\n",
        "    'simulator' : {\n",
        "        'dt' : 0.01,\n",
        "        'sampling_freq' : 20,\n",
        "        'samples' : 50\n",
        "    },\n",
        "    'fixed' : {\n",
        "        'm1' : 1,\n",
        "        'm2' : 1,\n",
        "        'x1' : 1,\n",
        "        'x2' : -1,\n",
        "        'v1' : 0,\n",
        "        'v2' : 0,\n",
        "        'c' : 1\n",
        "    },\n",
        "    'varying' : {\n",
        "        'k' : [0.2, 1.]\n",
        "    },\n",
        "    'eval_varying' : {\n",
        "        'k' : [0.2, 1.]\n",
        "    },\n",
        "    # model stuff\n",
        "    'x_dim' : 2,\n",
        "    'obs_enc_h_dim' : 16,\n",
        "    'r_dim': 16,\n",
        "    'pi_dim': 1,\n",
        "    'pi_enc_h_dim': 16,\n",
        "    'pi_r_dim': 16,\n",
        "    'aggregators': ['logsumexp', 'mean'],\n",
        "    'agg_h_dim': 16,\n",
        "    'r_to_z_h_dim': 16,\n",
        "    'z_dim': 16,\n",
        "    'z_to_L_h_dim': 16,\n",
        "    'L_dim': 16,\n",
        "    'ode_h_dim': 16,\n",
        "    'dec_h_dim': 16,\n",
        "    # training details\n",
        "    'lr' : 1e-3,\n",
        "    'epochs' : 100,\n",
        "    'val_and_print' : 10,\n",
        "    'context_range' : [5,10],\n",
        "    'target_range' : [15,51], # superset of context\n",
        "}"
      ],
      "execution_count": 8,
      "outputs": []
    },
    {
      "cell_type": "markdown",
      "metadata": {
        "id": "maX-ka-RQM6B"
      },
      "source": [
        "## Data\n",
        "Generate data"
      ]
    },
    {
      "cell_type": "code",
      "metadata": {
        "colab": {
          "base_uri": "https://localhost:8080/"
        },
        "id": "O0aNo1vrQLSe",
        "outputId": "795c0eb5-68a1-4acc-abed-33104d8550e6"
      },
      "source": [
        "# datasets\n",
        "train_val_set = OscillatorsDataset(config)\n",
        "train_set = train_val_set[:int(config['train_examples']*config['train_val_split'])]\n",
        "val_set = train_val_set[int(config['train_examples']*config['train_val_split']):]\n",
        "eval_set = OscillatorsDataset(config, train=False)\n",
        "\n",
        "train_examples = len(train_set)\n",
        "val_examples = len(val_set)\n",
        "eval_examples = len(eval_set)\n",
        "\n",
        "# loaders\n",
        "train_loader = DataLoader(train_set, batch_size=1)\n",
        "val_loader = DataLoader(val_set, batch_size=1)\n",
        "eval_loader = DataLoader(eval_set, batch_size=1)"
      ],
      "execution_count": 9,
      "outputs": [
        {
          "output_type": "stream",
          "text": [
            "Training data generation...\n",
            "Fixed paramters {'m1': 1, 'm2': 1, 'x1': 1, 'x2': -1, 'v1': 0, 'v2': 0, 'c': 1}\n",
            "Varying parameters {'k': [0.2, 1.0]}\n",
            "Evaluation data generation...\n",
            "Fixed paramters {'m1': 1, 'm2': 1, 'x1': 1, 'x2': -1, 'v1': 0, 'v2': 0, 'c': 1}\n",
            "Varying parameters {'k': [0.2, 1.0]}\n"
          ],
          "name": "stdout"
        }
      ]
    },
    {
      "cell_type": "markdown",
      "metadata": {
        "id": "T-WOAMpzR1M3"
      },
      "source": [
        "## Model and optimizer\n",
        "Define the model, optimizer and the context and target ranges used for data sampling."
      ]
    },
    {
      "cell_type": "code",
      "metadata": {
        "id": "WFtK-fMiRuMK"
      },
      "source": [
        "# model and optimizer\n",
        "if config['model'] == 'lupi':\n",
        "    model = LUPI_NDP(config)\n",
        "elif config['model'] == 'nopi':\n",
        "    model = NDP(config)\n",
        "else:\n",
        "    print('Config model not recognised.')\n",
        "optimizer = torch.optim.Adam(model.parameters(), lr=config['lr'])\n",
        "context_range = range(min(config['context_range']),max(config['context_range']))\n",
        "target_range = range(min(config['target_range']),max(config['target_range']))"
      ],
      "execution_count": 10,
      "outputs": []
    },
    {
      "cell_type": "markdown",
      "metadata": {
        "id": "-ZMQh6otSBuq"
      },
      "source": [
        "Make an untrained pass to check things are as we expect"
      ]
    },
    {
      "cell_type": "code",
      "metadata": {
        "colab": {
          "base_uri": "https://localhost:8080/",
          "height": 282
        },
        "id": "xyu6UzYVR5Fh",
        "outputId": "be6a2674-c7d2-49aa-eceb-e0549f7064ca"
      },
      "source": [
        "pi, x, times = next(iter(train_loader))\n",
        "\n",
        "context_size = random.sample(context_range,1)[0] # some number in the range 5 to 9\n",
        "target_size = random.sample(target_range,1)[0] # some number in the range 15 to 50\n",
        "target_idx = random.sample(range(config['simulator']['samples']),target_size) # a set of indices\n",
        "context_idx = random.sample(target_idx, context_size) # a subset of the target indices\n",
        "target_idx.sort()\n",
        "context_idx.sort()\n",
        "target_idx = torch.LongTensor(target_idx)\n",
        "context_idx = torch.LongTensor(context_idx)\n",
        "\n",
        "# haven't sorted out time sampled batching properly yet so squeezing out the batch dim\n",
        "zC,zT,preds = model(x.squeeze(0), times.squeeze(0), pi.squeeze(0), context_idx, target_idx)\n",
        "plt.scatter(times.squeeze(0)[target_idx],x.squeeze(0)[target_idx][:,0], label='Targets')\n",
        "plt.scatter(times.squeeze(0)[context_idx],x.squeeze(0)[context_idx][:,0], label='Context')\n",
        "plt.plot(times.squeeze(0)[target_idx],preds.loc[:,0].detach(), color='k', label='Prediction')\n",
        "plt.yticks([0,1])\n",
        "plt.xticks([0,1])\n",
        "plt.xlabel('Normalised time, $t$')\n",
        "plt.ylabel('Displacement, $x$')\n",
        "plt.legend()\n",
        "plt.show()"
      ],
      "execution_count": 11,
      "outputs": [
        {
          "output_type": "display_data",
          "data": {
            "image/png": "[encoded data removed]",
            "text/plain": [
              "<Figure size 432x288 with 1 Axes>"
            ]
          },
          "metadata": {
            "tags": [],
            "needs_background": "light"
          }
        }
      ]
    },
    {
      "cell_type": "markdown",
      "metadata": {
        "id": "WPrYErDVUAfM"
      },
      "source": [
        "## Training loop"
      ]
    },
    {
      "cell_type": "code",
      "metadata": {
        "colab": {
          "base_uri": "https://localhost:8080/"
        },
        "id": "2BK1EqPUSJZG",
        "outputId": "f72665f6-8b54-4c9c-b790-b2ec74878002"
      },
      "source": [
        "for epoch in range(config['epochs']):\n",
        "    total_epoch_loss = 0\n",
        "    recon_epoch_loss = 0\n",
        "    kl_epoch_loss = 0\n",
        "    # training loop\n",
        "    for i,batch in enumerate(train_loader):\n",
        "        optimizer.zero_grad()\n",
        "        \n",
        "        pi, x, times = batch\n",
        "        \n",
        "        # context/target idx\n",
        "        context_size = random.sample(context_range,1)[0]\n",
        "        target_size = random.sample(target_range,1)[0]\n",
        "        # during training, context are a subset of targets\n",
        "        target_idx = random.sample(range(config['simulator']['samples']),target_size)\n",
        "        context_idx = random.sample(target_idx, context_size)\n",
        "        target_idx.sort()\n",
        "        context_idx.sort()\n",
        "        target_idx = torch.LongTensor(target_idx)\n",
        "        context_idx = torch.LongTensor(context_idx)\n",
        "        \n",
        "        zC, zT, preds = model(x.squeeze(0),\n",
        "                              times.squeeze(0),\n",
        "                              pi.squeeze(0),\n",
        "                              context_idx,\n",
        "                              target_idx)\n",
        "\n",
        "        # reconstruction term\n",
        "        log_likelihood = preds.log_prob(x.squeeze(0)[target_idx]).sum()\n",
        "        # kl term\n",
        "        kl = kl_divergence(zT, zC).sum()\n",
        "        \n",
        "        loss = -log_likelihood + kl\n",
        "\n",
        "        loss.backward()\n",
        "        \n",
        "        optimizer.step()\n",
        "        \n",
        "        total_epoch_loss += loss.item()\n",
        "        recon_epoch_loss += -log_likelihood.item()\n",
        "        kl_epoch_loss += kl.item()\n",
        "    # validation and printing loop\n",
        "    with torch.no_grad():\n",
        "        if (epoch+1) % config['val_and_print'] == 0:\n",
        "            model.eval()\n",
        "            val_recon = 0\n",
        "\n",
        "            for i, batch in enumerate(val_loader):\n",
        "                pi, x, times = batch\n",
        "\n",
        "                # context/target idx\n",
        "                context_size = random.sample(context_range,1)[0]\n",
        "                # during eval, context and targets are disjoint and targets are all but context\n",
        "                context_idx = random.sample(range(config['simulator']['samples']), context_size)\n",
        "                target_idx = list(set(range(config['simulator']['samples']))-set(context_idx))\n",
        "                context_idx.sort()\n",
        "                target_idx = torch.LongTensor(target_idx)\n",
        "                context_idx = torch.LongTensor(context_idx)\n",
        "\n",
        "                preds = model(x.squeeze(0),times.squeeze(0),pi.squeeze(0),\n",
        "                              context_idx,target_idx)\n",
        "                log_likelihood = preds.log_prob(x.squeeze(0)[target_idx]).mean()\n",
        "\n",
        "                val_recon += -log_likelihood.item()\n",
        "            print_string = (\n",
        "                \"Epoch {0:d} \\t\"\n",
        "                \"Train {1:.0f} / {2:.0f} / {3:.0f} \\t\"\n",
        "                \"Val {4:.0f}\"\n",
        "            ).format(epoch+1,\n",
        "                     total_epoch_loss/train_examples, recon_epoch_loss/train_examples,\n",
        "                     kl_epoch_loss/train_examples,val_recon/val_examples)\n",
        "            print(print_string)\n",
        "            model.train()"
      ],
      "execution_count": 12,
      "outputs": [
        {
          "output_type": "stream",
          "text": [
            "Epoch 10 \tTrain -67 / -70 / 3 \tVal -1\n",
            "Epoch 20 \tTrain -78 / -82 / 4 \tVal -0\n",
            "Epoch 30 \tTrain -81 / -85 / 4 \tVal -0\n",
            "Epoch 40 \tTrain -82 / -85 / 3 \tVal -0\n",
            "Epoch 50 \tTrain -83 / -86 / 3 \tVal -0\n",
            "Epoch 60 \tTrain -87 / -89 / 3 \tVal -0\n",
            "Epoch 70 \tTrain -83 / -86 / 3 \tVal -1\n",
            "Epoch 80 \tTrain -85 / -88 / 3 \tVal -0\n",
            "Epoch 90 \tTrain -82 / -85 / 3 \tVal -1\n",
            "Epoch 100 \tTrain -84 / -87 / 3 \tVal -1\n"
          ],
          "name": "stdout"
        }
      ]
    },
    {
      "cell_type": "markdown",
      "metadata": {
        "id": "tPKDbkLXUSo2"
      },
      "source": [
        "# Evaluation\n",
        "Evaluation is run in both test and train modes i.e. `model.eval()` and `model.train()`. This determines the size of the context set for both models, and whether privileged information is used by the LUPI model. The gap between test and train mode performance shows how well the model adapts to the test-time setting."
      ]
    },
    {
      "cell_type": "code",
      "metadata": {
        "colab": {
          "base_uri": "https://localhost:8080/"
        },
        "id": "ZQe6IpnpUT8Z",
        "outputId": "3be2fd75-2beb-49d4-f0f7-406396be03a5"
      },
      "source": [
        "z_samples = 50\n",
        "\n",
        "with torch.no_grad():\n",
        "    \n",
        "    eval_error = 0.\n",
        "    pi_error = 0.\n",
        "\n",
        "    for i, batch in enumerate(eval_loader):\n",
        "        # get example\n",
        "        pi, x, times = batch\n",
        "        \n",
        "        pi_preds = []\n",
        "        nopi_preds = []\n",
        "\n",
        "        context_range = range(5,10)\n",
        "        target_range = range(15,51)\n",
        "\n",
        "        context_size = random.sample(context_range,1)[0] # some number in the range 5 to 9\n",
        "        target_size = random.sample(target_range,1)[0] # some number in the range 15 to 50\n",
        "        target_idx = list(range(config['simulator']['samples'])) # a set of indices\n",
        "        context_idx = random.sample(target_idx, context_size) # a subset of the target indices\n",
        "        target_idx.sort()\n",
        "        context_idx.sort()\n",
        "        target_idx = torch.LongTensor(target_idx)\n",
        "        context_idx = torch.LongTensor(context_idx)\n",
        "        \n",
        "        for _ in range(z_samples):\n",
        "            model.train()\n",
        "            _,_,train_preds = model(x.squeeze(0), times.squeeze(0), pi.squeeze(0), context_idx, target_idx)\n",
        "            pi_preds.append(train_preds.loc[:,0].detach())\n",
        "            model.eval()\n",
        "            eval_preds = model(x.squeeze(0), times.squeeze(0), pi.squeeze(0), context_idx, target_idx)\n",
        "            nopi_preds.append(eval_preds.loc[:,0].detach())\n",
        "        pi_mean = torch.stack(pi_preds,0).mean(0)\n",
        "        eval_mean = torch.stack(nopi_preds,0).mean(0)\n",
        "        \n",
        "        eval_error += torch.mean((eval_mean - x.squeeze(0)[:-1,0])**2).item()\n",
        "        pi_error += torch.mean((pi_mean - x.squeeze(0)[:-1,0])**2).item()\n",
        "\n",
        "eval_error = eval_error/len(eval_loader)\n",
        "pi_error = pi_error/len(eval_loader)\n",
        "print(f'MSE eval: \\t{eval_error:.5f}')\n",
        "print(f'MSE train: \\t{pi_error:.5f}')"
      ],
      "execution_count": 13,
      "outputs": [
        {
          "output_type": "stream",
          "text": [
            "MSE eval: \t0.00698\n",
            "MSE train: \t0.00057\n"
          ],
          "name": "stdout"
        }
      ]
    },
    {
      "cell_type": "markdown",
      "metadata": {
        "id": "AS8LdKkWVrvb"
      },
      "source": [
        "## Evaluation plots\n",
        "`eval_iter` is defined separately such that rerunning the plotting cell uses a different example."
      ]
    },
    {
      "cell_type": "code",
      "metadata": {
        "id": "qJQuFvS_V81b"
      },
      "source": [
        "eval_iter = iter(eval_loader)\n",
        "train_label = 'Using targets and PI' if config['model'] == 'lupi' else 'Using targets'\n",
        "eval_label = 'Context only'"
      ],
      "execution_count": 16,
      "outputs": []
    },
    {
      "cell_type": "code",
      "metadata": {
        "colab": {
          "base_uri": "https://localhost:8080/",
          "height": 329
        },
        "id": "-z7lrCDKVb5j",
        "outputId": "0a1efe77-623f-4db5-e044-b4b610aecfdf"
      },
      "source": [
        "pi, x, times = next(eval_iter)\n",
        "\n",
        "print(f'P.I. ≈ {pi.item():.2f}')\n",
        "\n",
        "context_range = range(5,10)\n",
        "target_range = range(15,51)\n",
        "\n",
        "context_size = random.sample(context_range,1)[0] # some number in the range 5 to 9\n",
        "target_size = random.sample(target_range,1)[0] # some number in the range 15 to 50\n",
        "target_idx = list(range(config['simulator']['samples'])) # a set of indices\n",
        "context_idx = random.sample(target_idx, context_size) # a subset of the target indices\n",
        "target_idx.sort()\n",
        "context_idx.sort()\n",
        "target_idx = torch.LongTensor(target_idx)\n",
        "context_idx = torch.LongTensor(context_idx)\n",
        "\n",
        "# sample a bunch of predictions\n",
        "z_samples = 50\n",
        "pi_preds = []\n",
        "nopi_preds = []\n",
        "for _ in range(z_samples):\n",
        "    # haven't sorted out time sampled batching properly yet so squeezing out the batch dim\n",
        "    model.train()\n",
        "    _,_,train_preds = model(x.squeeze(0), times.squeeze(0), pi.squeeze(0), context_idx, target_idx)\n",
        "    pi_preds.append(train_preds.loc[:,0].detach())\n",
        "    model.eval()\n",
        "    eval_preds = model(x.squeeze(0), times.squeeze(0), pi.squeeze(0), context_idx, target_idx)\n",
        "    nopi_preds.append(eval_preds.loc[:,0].detach())\n",
        "pi_mean = torch.stack(pi_preds,0).mean(0)\n",
        "pi_std = torch.stack(pi_preds,0).std(0)\n",
        "eval_mean = torch.stack(nopi_preds,0).mean(0)\n",
        "eval_std = torch.stack(nopi_preds,0).std(0)\n",
        "\n",
        "# plot ±2 std and ±1 std as transparent fills\n",
        "plt.fill_between(times.squeeze(0)[target_idx],eval_mean+2*eval_std,eval_mean-2*eval_std, alpha = 0.1, color='r')\n",
        "plt.fill_between(times.squeeze(0)[target_idx],pi_mean+2*pi_std,pi_mean-2*pi_std, alpha = 0.1, color='b')\n",
        "plt.fill_between(times.squeeze(0)[target_idx],eval_mean+eval_std,eval_mean-eval_std, alpha = 0.2, color='r')\n",
        "plt.fill_between(times.squeeze(0)[target_idx],pi_mean+pi_std,pi_mean-pi_std, alpha = 0.2, color='b')\n",
        "# plot means over the top\n",
        "plt.plot(times.squeeze(0)[target_idx],pi_mean,color='b')\n",
        "plt.plot(times.squeeze(0)[target_idx],eval_mean,color='r')\n",
        "# ground truth in black with context dots\n",
        "plt.plot(times.squeeze(0), x.squeeze(0)[:,0], label='Ground truth', color='k')\n",
        "plt.scatter(times.squeeze(0)[context_idx],x.squeeze(0)[context_idx][:,0], label='Context',color='k')\n",
        "custom_lines = [Line2D([0], [0], color='b', lw=2),\n",
        "                Line2D([0], [0], color='r', lw=2),\n",
        "                Line2D([0], [0], color='k', lw=2),\n",
        "                Line2D([0], [0], marker='o', color='w', label='Scatter',\n",
        "                       markerfacecolor='k', markersize=8)]\n",
        "plt.legend(custom_lines, [train_label, eval_label, 'Ground truth', 'Context'])\n",
        "plt.title('Test set prediction with uncertainty estimates.\\n Inner shaded region is ±1std, outer is ±2std.')\n",
        "plt.yticks([-0.5,0,0.5,1])\n",
        "plt.yticks([0,1])\n",
        "plt.xlabel('$t$')\n",
        "plt.ylabel('$x$')\n",
        "plt.show()"
      ],
      "execution_count": 20,
      "outputs": [
        {
          "output_type": "stream",
          "text": [
            "P.I. ≈ 0.75\n"
          ],
          "name": "stdout"
        },
        {
          "output_type": "display_data",
          "data": {
            "image/png": "[encoded data removed]",
            "text/plain": [
              "<Figure size 432x288 with 1 Axes>"
            ]
          },
          "metadata": {
            "tags": [],
            "needs_background": "light"
          }
        }
      ]
    },
    {
      "cell_type": "code",
      "metadata": {
        "id": "vGWBDbtRf601"
      },
      "source": [
        ""
      ],
      "execution_count": null,
      "outputs": []
    }
  ]
}